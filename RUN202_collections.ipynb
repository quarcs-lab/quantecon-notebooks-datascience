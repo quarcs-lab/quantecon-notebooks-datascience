{
  "nbformat": 4,
  "nbformat_minor": 0,
  "metadata": {
    "date": 1579028399.313335,
    "download_nb": false,
    "filename": "collections.rst",
    "filename_with_path": "python_fundamentals/collections",
    "kernelspec": {
      "display_name": "Python",
      "language": "python3",
      "name": "python3"
    },
    "language_info": {
      "codemirror_mode": {
        "name": "ipython",
        "version": 3
      },
      "file_extension": ".py",
      "mimetype": "text/x-python",
      "name": "python",
      "nbconvert_exporter": "python",
      "pygments_lexer": "ipython3",
      "version": "3.7.3"
    },
    "title": "Collections",
    "colab": {
      "name": "RUN202_collections.ipynb",
      "provenance": [],
      "toc_visible": true,
      "include_colab_link": true
    }
  },
  "cells": [
    {
      "cell_type": "markdown",
      "metadata": {
        "id": "view-in-github",
        "colab_type": "text"
      },
      "source": [
        "<a href=\"https://colab.research.google.com/github/quarcs-lab/quantecon-notebooks-datascience/blob/master/RUN202_collections.ipynb\" target=\"_parent\"><img src=\"https://colab.research.google.com/assets/colab-badge.svg\" alt=\"Open In Colab\"/></a>"
      ]
    },
    {
      "cell_type": "markdown",
      "metadata": {
        "id": "J9Xqgf2qTojq",
        "colab_type": "text"
      },
      "source": [
        "# Collections\n",
        "\n",
        "**Prerequisites**\n",
        "\n",
        "- [Core data types](basics.ipynb)  \n",
        "\n",
        "\n",
        "**Outcomes**\n",
        "\n",
        "- Ordered Collections  \n",
        "  \n",
        "  - Know what a list is and a tuple is  \n",
        "  - Know how to tell a list from a tuple  \n",
        "  - Understand the `range`, `zip` and `enumerate` functions  \n",
        "  - Be able to use common list methods like `append`, `sort`,\n",
        "    and `reverse`  \n",
        "  \n",
        "- Associative Collections  \n",
        "  \n",
        "  - Understand what a `dict` is  \n",
        "  - Know the distinction between a dicts keys and values  \n",
        "  - Understand when `dict`s are useful  \n",
        "  - Be familiar with common `dict` methods  \n",
        "  \n",
        "- Sets  (optional)  \n",
        "  \n",
        "  - Know what a set is  \n",
        "  - Understand how a set differs from a list and a tuple  \n",
        "  - Know when to use a set vs a list or a tuple  \n",
        "  \n",
        "\n",
        "\n",
        "**Outline**"
      ]
    },
    {
      "cell_type": "markdown",
      "metadata": {
        "id": "uIFOYZWHTojv",
        "colab_type": "text"
      },
      "source": [
        "## Contents\n",
        "\n",
        "- [Collections](#Collections)  \n",
        "  - [Ordered Collections](#Ordered-Collections)  \n",
        "  - [Associative Collections](#Associative-Collections)  \n",
        "  - [Exercises](#Exercises)  "
      ]
    },
    {
      "cell_type": "markdown",
      "metadata": {
        "id": "yLhuX6HgToj-",
        "colab_type": "text"
      },
      "source": [
        "## Ordered Collections"
      ]
    },
    {
      "cell_type": "markdown",
      "metadata": {
        "id": "o3vXAT9lTokA",
        "colab_type": "text"
      },
      "source": [
        "### Lists\n",
        "\n",
        "A Python list is an ordered collection of items.\n",
        "\n",
        "We can create lists using the following syntax"
      ]
    },
    {
      "cell_type": "markdown",
      "metadata": {
        "hide-output": false,
        "id": "Td_TLjb4TokC",
        "colab_type": "text"
      },
      "source": [
        "```python\n",
        "[item1, item2, ...,  itemN]\n",
        "```\n"
      ]
    },
    {
      "cell_type": "markdown",
      "metadata": {
        "id": "t2loEmeETokF",
        "colab_type": "text"
      },
      "source": [
        "where the `...` represents any number of additional items.\n",
        "\n",
        "Each item can be of any type.\n",
        "\n",
        "Let’s create some lists."
      ]
    },
    {
      "cell_type": "code",
      "metadata": {
        "hide-output": false,
        "id": "NeIJ62I6TokH",
        "colab_type": "code",
        "outputId": "d247f2e6-47b4-40e5-fa25-8c6525d9288d",
        "colab": {
          "base_uri": "https://localhost:8080/",
          "height": 34
        }
      },
      "source": [
        "# created, but not assigned to a variable\n",
        "[2.0, 9.1, 12.5]"
      ],
      "execution_count": 1,
      "outputs": [
        {
          "output_type": "execute_result",
          "data": {
            "text/plain": [
              "[2.0, 9.1, 12.5]"
            ]
          },
          "metadata": {
            "tags": []
          },
          "execution_count": 1
        }
      ]
    },
    {
      "cell_type": "code",
      "metadata": {
        "hide-output": false,
        "id": "Fh6b_tIoTokQ",
        "colab_type": "code",
        "outputId": "40b988c3-fdda-4db3-d11b-d2028218e283",
        "colab": {
          "base_uri": "https://localhost:8080/",
          "height": 51
        }
      },
      "source": [
        "# stored as the variable `x`\n",
        "x = [2.0, 9.1, 12.5]\n",
        "print(\"x has type\", type(x))\n",
        "x"
      ],
      "execution_count": 2,
      "outputs": [
        {
          "output_type": "stream",
          "text": [
            "x has type <class 'list'>\n"
          ],
          "name": "stdout"
        },
        {
          "output_type": "execute_result",
          "data": {
            "text/plain": [
              "[2.0, 9.1, 12.5]"
            ]
          },
          "metadata": {
            "tags": []
          },
          "execution_count": 2
        }
      ]
    },
    {
      "cell_type": "markdown",
      "metadata": {
        "id": "mJIIm6rsTokZ",
        "colab_type": "text"
      },
      "source": [
        "#### What Can We Do with Lists?\n",
        "\n",
        "We can access items in a list called `mylist` using `mylist[N]`\n",
        "where `N` is an integer.\n",
        "\n",
        "Note: Anytime that we use the syntax `x[i]` we are doing what is\n",
        "called indexing – it means that we are selecting a particular element\n",
        "of a *collection* `x`."
      ]
    },
    {
      "cell_type": "code",
      "metadata": {
        "hide-output": false,
        "id": "DKlvnQauToka",
        "colab_type": "code",
        "outputId": "f04f8ef3-2689-4050-8fa7-26b32730ad27",
        "colab": {
          "base_uri": "https://localhost:8080/",
          "height": 34
        }
      },
      "source": [
        "x[1]"
      ],
      "execution_count": 3,
      "outputs": [
        {
          "output_type": "execute_result",
          "data": {
            "text/plain": [
              "9.1"
            ]
          },
          "metadata": {
            "tags": []
          },
          "execution_count": 3
        }
      ]
    },
    {
      "cell_type": "markdown",
      "metadata": {
        "id": "zdm7Onc3Toki",
        "colab_type": "text"
      },
      "source": [
        "Wait? Why did `x[1]` return `9.1` when the first element in x is\n",
        "actually `2.0`?\n",
        "\n",
        "This happened because Python starts counting at zero!\n",
        "\n",
        "Lets repeat that one more time for emphasis **Python starts counting at zero**!\n",
        "\n",
        "To access the first element of x we must use `x[0]`:"
      ]
    },
    {
      "cell_type": "code",
      "metadata": {
        "hide-output": false,
        "id": "CzokhRdBTokj",
        "colab_type": "code",
        "outputId": "cebea181-ae46-4254-a041-eac9b07571df",
        "colab": {
          "base_uri": "https://localhost:8080/",
          "height": 34
        }
      },
      "source": [
        "x[0]"
      ],
      "execution_count": 4,
      "outputs": [
        {
          "output_type": "execute_result",
          "data": {
            "text/plain": [
              "2.0"
            ]
          },
          "metadata": {
            "tags": []
          },
          "execution_count": 4
        }
      ]
    },
    {
      "cell_type": "markdown",
      "metadata": {
        "id": "RVhzVzRuTokr",
        "colab_type": "text"
      },
      "source": [
        "We can also determine how many items are in a list using the `len` function."
      ]
    },
    {
      "cell_type": "code",
      "metadata": {
        "hide-output": false,
        "id": "DhPAENhyTokt",
        "colab_type": "code",
        "outputId": "da5b2c64-8b39-4ec9-8568-5242e6cfcb17",
        "colab": {
          "base_uri": "https://localhost:8080/",
          "height": 34
        }
      },
      "source": [
        "len(x)"
      ],
      "execution_count": 5,
      "outputs": [
        {
          "output_type": "execute_result",
          "data": {
            "text/plain": [
              "3"
            ]
          },
          "metadata": {
            "tags": []
          },
          "execution_count": 5
        }
      ]
    },
    {
      "cell_type": "markdown",
      "metadata": {
        "id": "3mwVYszPToky",
        "colab_type": "text"
      },
      "source": [
        "What happens if we try to index with a number higher than the number of\n",
        "items in a list?"
      ]
    },
    {
      "cell_type": "code",
      "metadata": {
        "hide-output": false,
        "id": "mZbKebxgTok0",
        "colab_type": "code",
        "colab": {
          "base_uri": "https://localhost:8080/",
          "height": 164
        },
        "outputId": "00a27067-4c61-4661-9b12-131f54f4953e"
      },
      "source": [
        "# uncomment the line below and run\n",
        " x[4]"
      ],
      "execution_count": 6,
      "outputs": [
        {
          "output_type": "error",
          "ename": "IndexError",
          "evalue": "ignored",
          "traceback": [
            "\u001b[0;31m---------------------------------------------------------------------------\u001b[0m",
            "\u001b[0;31mIndexError\u001b[0m                                Traceback (most recent call last)",
            "\u001b[0;32m<ipython-input-6-cedd7ac36334>\u001b[0m in \u001b[0;36m<module>\u001b[0;34m()\u001b[0m\n\u001b[0;32m----> 1\u001b[0;31m \u001b[0mx\u001b[0m\u001b[0;34m[\u001b[0m\u001b[0;36m4\u001b[0m\u001b[0;34m]\u001b[0m\u001b[0;34m\u001b[0m\u001b[0;34m\u001b[0m\u001b[0m\n\u001b[0m",
            "\u001b[0;31mIndexError\u001b[0m: list index out of range"
          ]
        }
      ]
    },
    {
      "cell_type": "markdown",
      "metadata": {
        "id": "U-FX6vOoTok5",
        "colab_type": "text"
      },
      "source": [
        "We can check if a list contains an element using the `in` keyword."
      ]
    },
    {
      "cell_type": "code",
      "metadata": {
        "hide-output": false,
        "id": "ko0Tas8zTok6",
        "colab_type": "code",
        "outputId": "894219c1-4484-48f7-9088-007e5e53fb2f",
        "colab": {
          "base_uri": "https://localhost:8080/",
          "height": 34
        }
      },
      "source": [
        "2.0 in x"
      ],
      "execution_count": 7,
      "outputs": [
        {
          "output_type": "execute_result",
          "data": {
            "text/plain": [
              "True"
            ]
          },
          "metadata": {
            "tags": []
          },
          "execution_count": 7
        }
      ]
    },
    {
      "cell_type": "code",
      "metadata": {
        "hide-output": false,
        "id": "udiJjjpqTolE",
        "colab_type": "code",
        "outputId": "68ba1e7a-1aa5-4b1e-f2ab-90f92aaefe1e",
        "colab": {
          "base_uri": "https://localhost:8080/",
          "height": 34
        }
      },
      "source": [
        "1.5 in x"
      ],
      "execution_count": 8,
      "outputs": [
        {
          "output_type": "execute_result",
          "data": {
            "text/plain": [
              "False"
            ]
          },
          "metadata": {
            "tags": []
          },
          "execution_count": 8
        }
      ]
    },
    {
      "cell_type": "markdown",
      "metadata": {
        "id": "kgSr9IZpTolK",
        "colab_type": "text"
      },
      "source": [
        "For our list `x`, other common operations we might want to do are…"
      ]
    },
    {
      "cell_type": "code",
      "metadata": {
        "hide-output": false,
        "id": "V3jbiuC8TolN",
        "colab_type": "code",
        "outputId": "fdfe0cb6-fd25-4767-bb24-d8a5c67396a0",
        "colab": {
          "base_uri": "https://localhost:8080/",
          "height": 34
        }
      },
      "source": [
        "x.reverse()\n",
        "x"
      ],
      "execution_count": 9,
      "outputs": [
        {
          "output_type": "execute_result",
          "data": {
            "text/plain": [
              "[12.5, 9.1, 2.0]"
            ]
          },
          "metadata": {
            "tags": []
          },
          "execution_count": 9
        }
      ]
    },
    {
      "cell_type": "code",
      "metadata": {
        "hide-output": false,
        "id": "_3T7keb6Tola",
        "colab_type": "code",
        "outputId": "691acbbd-2ea2-481d-8ff8-36831a5a86cc",
        "colab": {
          "base_uri": "https://localhost:8080/",
          "height": 51
        }
      },
      "source": [
        "number_list = [10, 25, 42, 1.0]\n",
        "print(number_list)\n",
        "number_list.sort()\n",
        "print(number_list)"
      ],
      "execution_count": 10,
      "outputs": [
        {
          "output_type": "stream",
          "text": [
            "[10, 25, 42, 1.0]\n",
            "[1.0, 10, 25, 42]\n"
          ],
          "name": "stdout"
        }
      ]
    },
    {
      "cell_type": "markdown",
      "metadata": {
        "id": "jWALnm78Tolm",
        "colab_type": "text"
      },
      "source": [
        "Note that in order to `sort`, we had to have all elements in our list\n",
        "be numbers (`int` and `float`), more on this [below](#inhomogenous-lists).\n",
        "\n",
        "We could actually do the same with a list of strings. In this case, `sort`\n",
        "will put the items in alphabetical order."
      ]
    },
    {
      "cell_type": "code",
      "metadata": {
        "hide-output": false,
        "id": "3AZKQeOWTolp",
        "colab_type": "code",
        "outputId": "3f0e0082-eca9-4fdd-bb2c-e5894d5e2cae",
        "colab": {
          "base_uri": "https://localhost:8080/",
          "height": 51
        }
      },
      "source": [
        "str_list = [\"NY\", \"AZ\", \"TX\"]\n",
        "print(str_list)\n",
        "str_list.sort()\n",
        "print(str_list)"
      ],
      "execution_count": 11,
      "outputs": [
        {
          "output_type": "stream",
          "text": [
            "['NY', 'AZ', 'TX']\n",
            "['AZ', 'NY', 'TX']\n"
          ],
          "name": "stdout"
        }
      ]
    },
    {
      "cell_type": "markdown",
      "metadata": {
        "id": "NYhxYvWjTol2",
        "colab_type": "text"
      },
      "source": [
        "The `append` method adds an element to the end of existing list."
      ]
    },
    {
      "cell_type": "code",
      "metadata": {
        "hide-output": false,
        "id": "vyO_zOW-Tol6",
        "colab_type": "code",
        "outputId": "dd7c8425-3ba7-4efa-f402-984350dc3bdf",
        "colab": {
          "base_uri": "https://localhost:8080/",
          "height": 51
        }
      },
      "source": [
        "num_list = [10, 25, 42, 8]\n",
        "print(num_list)\n",
        "num_list.append(10)\n",
        "print(num_list)"
      ],
      "execution_count": 12,
      "outputs": [
        {
          "output_type": "stream",
          "text": [
            "[10, 25, 42, 8]\n",
            "[10, 25, 42, 8, 10]\n"
          ],
          "name": "stdout"
        }
      ]
    },
    {
      "cell_type": "markdown",
      "metadata": {
        "id": "y_272k1gTomG",
        "colab_type": "text"
      },
      "source": [
        "However, if you call `append` with a list, it adds a `list` to the end,\n",
        "rather than the numbers in that list."
      ]
    },
    {
      "cell_type": "code",
      "metadata": {
        "hide-output": false,
        "id": "NXyH1cdXTomI",
        "colab_type": "code",
        "outputId": "bbb612d9-1125-474c-a3fc-1c3834c86f5c",
        "colab": {
          "base_uri": "https://localhost:8080/",
          "height": 51
        }
      },
      "source": [
        "num_list = [10, 25, 42, 8]\n",
        "print(num_list)\n",
        "num_list.append([20, 4])\n",
        "print(num_list)"
      ],
      "execution_count": 13,
      "outputs": [
        {
          "output_type": "stream",
          "text": [
            "[10, 25, 42, 8]\n",
            "[10, 25, 42, 8, [20, 4]]\n"
          ],
          "name": "stdout"
        }
      ]
    },
    {
      "cell_type": "markdown",
      "metadata": {
        "id": "T189Ga9iTomQ",
        "colab_type": "text"
      },
      "source": [
        "To combine the lists instead…"
      ]
    },
    {
      "cell_type": "code",
      "metadata": {
        "hide-output": false,
        "id": "lwAl5F4WTomS",
        "colab_type": "code",
        "outputId": "9373228e-bfbe-4b4f-a3d1-829fdb50148a",
        "colab": {
          "base_uri": "https://localhost:8080/",
          "height": 51
        }
      },
      "source": [
        "num_list = [10, 25, 42, 8]\n",
        "print(num_list)\n",
        "num_list.extend([20, 4])\n",
        "print(num_list)"
      ],
      "execution_count": 14,
      "outputs": [
        {
          "output_type": "stream",
          "text": [
            "[10, 25, 42, 8]\n",
            "[10, 25, 42, 8, 20, 4]\n"
          ],
          "name": "stdout"
        }
      ]
    },
    {
      "cell_type": "markdown",
      "metadata": {
        "id": "8F1HK999TomY",
        "colab_type": "text"
      },
      "source": [
        "\n",
        "<a id='exercise-0'></a>\n",
        "> See exercise 1 in the [*exercise list*](#exerciselist-0)\n",
        "\n",
        "\n",
        "\n",
        "<a id='inhomogenous-lists'></a>"
      ]
    },
    {
      "cell_type": "markdown",
      "metadata": {
        "id": "_jqCrYQhToma",
        "colab_type": "text"
      },
      "source": [
        "### Lists of Different Types\n",
        "\n",
        "While most examples above have all used a `list` with\n",
        "a single type of variable, this is not required.\n",
        "\n",
        "Let’s carefully make a small change to the first example: replace `2.0` with `2`"
      ]
    },
    {
      "cell_type": "code",
      "metadata": {
        "hide-output": false,
        "id": "Beq6NjO7Tomc",
        "colab_type": "code",
        "colab": {}
      },
      "source": [
        "x = [2, 9.1, 12.5]"
      ],
      "execution_count": 0,
      "outputs": []
    },
    {
      "cell_type": "markdown",
      "metadata": {
        "id": "n9XByARtTomo",
        "colab_type": "text"
      },
      "source": [
        "This behavior is identical for many operations you might\n",
        "apply to a list."
      ]
    },
    {
      "cell_type": "code",
      "metadata": {
        "hide-output": false,
        "id": "ZGQAx3HRTomr",
        "colab_type": "code",
        "outputId": "e5673f6e-ae09-4157-9ccc-a2c928d094c5",
        "colab": {
          "base_uri": "https://localhost:8080/",
          "height": 34
        }
      },
      "source": [
        "import numpy as np\n",
        "x = [2, 9.1, 12.5]\n",
        "np.mean(x)"
      ],
      "execution_count": 17,
      "outputs": [
        {
          "output_type": "execute_result",
          "data": {
            "text/plain": [
              "7.866666666666667"
            ]
          },
          "metadata": {
            "tags": []
          },
          "execution_count": 17
        }
      ]
    },
    {
      "cell_type": "code",
      "metadata": {
        "id": "27RNoZXRxpsQ",
        "colab_type": "code",
        "colab": {
          "base_uri": "https://localhost:8080/",
          "height": 34
        },
        "outputId": "8f60268a-ef0c-4c1b-fd40-29ed5f8dd920"
      },
      "source": [
        "np.mean(x) == sum(x)/len(x)"
      ],
      "execution_count": 18,
      "outputs": [
        {
          "output_type": "execute_result",
          "data": {
            "text/plain": [
              "True"
            ]
          },
          "metadata": {
            "tags": []
          },
          "execution_count": 18
        }
      ]
    },
    {
      "cell_type": "markdown",
      "metadata": {
        "id": "g0p2U_DfTomz",
        "colab_type": "text"
      },
      "source": [
        "Here we have also introduced a new [module](basics.ipynb#modules),\n",
        "[Numpy](../scientific/index.ipynb), which provides many functions\n",
        "for working with numeric data.\n",
        "\n",
        "Taking this further, we can put completely different types of elements\n",
        "inside of a list."
      ]
    },
    {
      "cell_type": "code",
      "metadata": {
        "hide-output": false,
        "id": "L105XHG2Tom1",
        "colab_type": "code",
        "outputId": "813e6d7a-d911-4fc1-d096-330ce1afdf80",
        "colab": {
          "base_uri": "https://localhost:8080/",
          "height": 51
        }
      },
      "source": [
        "# stored as the variable `x`\n",
        "x = [2, \"hello\", 3.0]\n",
        "print(\"x has type\", type(x))\n",
        "x"
      ],
      "execution_count": 19,
      "outputs": [
        {
          "output_type": "stream",
          "text": [
            "x has type <class 'list'>\n"
          ],
          "name": "stdout"
        },
        {
          "output_type": "execute_result",
          "data": {
            "text/plain": [
              "[2, 'hello', 3.0]"
            ]
          },
          "metadata": {
            "tags": []
          },
          "execution_count": 19
        }
      ]
    },
    {
      "cell_type": "markdown",
      "metadata": {
        "id": "l6OPqATxTonA",
        "colab_type": "text"
      },
      "source": [
        "To see the types of individual elements in the list:"
      ]
    },
    {
      "cell_type": "code",
      "metadata": {
        "hide-output": false,
        "id": "rwwsNSR7TonB",
        "colab_type": "code",
        "outputId": "5e0a7564-3f09-45b8-d6bb-add8206eb420",
        "colab": {
          "base_uri": "https://localhost:8080/",
          "height": 34
        }
      },
      "source": [
        "print(f\"type(x[0]) = {type(x[0])}, type(x[0]) = {type(x[1])}, type(x[2]) = {type(x[2])}\")"
      ],
      "execution_count": 20,
      "outputs": [
        {
          "output_type": "stream",
          "text": [
            "type(x[0]) = <class 'int'>, type(x[0]) = <class 'str'>, type(x[2]) = <class 'float'>\n"
          ],
          "name": "stdout"
        }
      ]
    },
    {
      "cell_type": "markdown",
      "metadata": {
        "id": "Totnhd1RTonG",
        "colab_type": "text"
      },
      "source": [
        "While no programming limitations prevent this, you should be careful if you write code\n",
        "with different numeric and non-numeric types in the same list.\n",
        "\n",
        "For example, if the types within the list cannot be compared, then how could you sort the elements of the list? (i.e. How do you determine whether the string “hello” is less than the integer 2, “hello” < 2?)"
      ]
    },
    {
      "cell_type": "code",
      "metadata": {
        "hide-output": false,
        "id": "slv48dudTonH",
        "colab_type": "code",
        "colab": {
          "base_uri": "https://localhost:8080/",
          "height": 198
        },
        "outputId": "7ab62874-6c8e-4e6d-8c08-e99b65a30d78"
      },
      "source": [
        "x = [2, \"hello\", 3.0]\n",
        "# uncomment the line below and see what happens!\n",
        "x.sort()"
      ],
      "execution_count": 22,
      "outputs": [
        {
          "output_type": "error",
          "ename": "TypeError",
          "evalue": "ignored",
          "traceback": [
            "\u001b[0;31m---------------------------------------------------------------------------\u001b[0m",
            "\u001b[0;31mTypeError\u001b[0m                                 Traceback (most recent call last)",
            "\u001b[0;32m<ipython-input-22-0497f291c522>\u001b[0m in \u001b[0;36m<module>\u001b[0;34m()\u001b[0m\n\u001b[1;32m      1\u001b[0m \u001b[0mx\u001b[0m \u001b[0;34m=\u001b[0m \u001b[0;34m[\u001b[0m\u001b[0;36m2\u001b[0m\u001b[0;34m,\u001b[0m \u001b[0;34m\"hello\"\u001b[0m\u001b[0;34m,\u001b[0m \u001b[0;36m3.0\u001b[0m\u001b[0;34m]\u001b[0m\u001b[0;34m\u001b[0m\u001b[0;34m\u001b[0m\u001b[0m\n\u001b[1;32m      2\u001b[0m \u001b[0;31m# uncomment the line below and see what happens!\u001b[0m\u001b[0;34m\u001b[0m\u001b[0;34m\u001b[0m\u001b[0;34m\u001b[0m\u001b[0m\n\u001b[0;32m----> 3\u001b[0;31m \u001b[0mx\u001b[0m\u001b[0;34m.\u001b[0m\u001b[0msort\u001b[0m\u001b[0;34m(\u001b[0m\u001b[0;34m)\u001b[0m\u001b[0;34m\u001b[0m\u001b[0;34m\u001b[0m\u001b[0m\n\u001b[0m",
            "\u001b[0;31mTypeError\u001b[0m: '<' not supported between instances of 'str' and 'int'"
          ]
        }
      ]
    },
    {
      "cell_type": "markdown",
      "metadata": {
        "id": "jk5OKs7lTonR",
        "colab_type": "text"
      },
      "source": [
        "A few key exceptions to this general rule are:\n",
        "\n",
        "- Lists with both integers and floating points are less error-prone\n",
        "  (since mathematical code using the list would work with both types).  \n",
        "- When working with lists and data, you may want to represent missing\n",
        "  values with a different type than the existing values.  "
      ]
    },
    {
      "cell_type": "markdown",
      "metadata": {
        "id": "p_Wt3ClhTonU",
        "colab_type": "text"
      },
      "source": [
        "### The `range` Function\n",
        "\n",
        "One function you will see often in Python is the `range` function.\n",
        "\n",
        "It has three versions:\n",
        "\n",
        "1. `range(N)`: goes from 0 to N-1  \n",
        "1. `range(a, N)`: goes from a to N-1  \n",
        "1. `range(a, N, d)`: goes from a to N-1, counting by d  \n",
        "\n",
        "\n",
        "When we call the `range` function, we get back something that has type `range`:"
      ]
    },
    {
      "cell_type": "code",
      "metadata": {
        "hide-output": false,
        "id": "aDVU9VVBTonY",
        "colab_type": "code",
        "outputId": "d6c9cff1-e184-425c-8fc8-922584bc402d",
        "colab": {
          "base_uri": "https://localhost:8080/",
          "height": 34
        }
      },
      "source": [
        "r = range(5)\n",
        "print(\"type(r)\", type(r))"
      ],
      "execution_count": 23,
      "outputs": [
        {
          "output_type": "stream",
          "text": [
            "type(r) <class 'range'>\n"
          ],
          "name": "stdout"
        }
      ]
    },
    {
      "cell_type": "markdown",
      "metadata": {
        "id": "UOQ9EyUbTond",
        "colab_type": "text"
      },
      "source": [
        "To turn the `range` into a list:"
      ]
    },
    {
      "cell_type": "code",
      "metadata": {
        "hide-output": false,
        "id": "mEFkdMOFTone",
        "colab_type": "code",
        "outputId": "79d4eb26-2332-42ea-85e1-7596d28c3d92",
        "colab": {
          "base_uri": "https://localhost:8080/",
          "height": 34
        }
      },
      "source": [
        "list(r)"
      ],
      "execution_count": 24,
      "outputs": [
        {
          "output_type": "execute_result",
          "data": {
            "text/plain": [
              "[0, 1, 2, 3, 4]"
            ]
          },
          "metadata": {
            "tags": []
          },
          "execution_count": 24
        }
      ]
    },
    {
      "cell_type": "markdown",
      "metadata": {
        "id": "ExxVs00nTonl",
        "colab_type": "text"
      },
      "source": [
        "\n",
        "<a id='exercise-1'></a>\n",
        "> See exercise 2 in the [*exercise list*](#exerciselist-0)"
      ]
    },
    {
      "cell_type": "markdown",
      "metadata": {
        "id": "e35hJbCATonn",
        "colab_type": "text"
      },
      "source": [
        "### What are Tuples?\n",
        "\n",
        "Tuples are very similar to lists and hold ordered collections of items.\n",
        "\n",
        "However, tuples and lists have three main differences:\n",
        "\n",
        "1. Tuples are created using parenthesis — `(` and `)` — instead of\n",
        "  square brackets — `[` and `]`.  \n",
        "1. Tuples are *immutable*, which is a fancy computer science word\n",
        "  meaning that they can’t be changed or altered after they are created.  \n",
        "1. Tuples and multiple return values\n",
        "  from functions are tightly connected, as we will see in [functions](functions.ipynb).  "
      ]
    },
    {
      "cell_type": "code",
      "metadata": {
        "hide-output": false,
        "id": "NFAh-9fyTonq",
        "colab_type": "code",
        "outputId": "c3c269d2-446a-40ff-f4ad-ed5ce0f5cdcd",
        "colab": {
          "base_uri": "https://localhost:8080/",
          "height": 51
        }
      },
      "source": [
        "t = (1, \"hello\", 3.0)\n",
        "print(\"t is a\", type(t))\n",
        "t"
      ],
      "execution_count": 25,
      "outputs": [
        {
          "output_type": "stream",
          "text": [
            "t is a <class 'tuple'>\n"
          ],
          "name": "stdout"
        },
        {
          "output_type": "execute_result",
          "data": {
            "text/plain": [
              "(1, 'hello', 3.0)"
            ]
          },
          "metadata": {
            "tags": []
          },
          "execution_count": 25
        }
      ]
    },
    {
      "cell_type": "markdown",
      "metadata": {
        "id": "-FzCuJI_Tonw",
        "colab_type": "text"
      },
      "source": [
        "We can *convert* a list to a tuple by calling the `tuple` function on\n",
        "a list."
      ]
    },
    {
      "cell_type": "code",
      "metadata": {
        "hide-output": false,
        "id": "ghjDDeSPTony",
        "colab_type": "code",
        "outputId": "8b3bcbe6-1f73-467a-bd7d-3608f82e0353",
        "colab": {
          "base_uri": "https://localhost:8080/",
          "height": 68
        }
      },
      "source": [
        "print(\"x is a\", type(x))\n",
        "print(\"tuple(x) is a\", type(tuple(x)))\n",
        "tuple(x)"
      ],
      "execution_count": 26,
      "outputs": [
        {
          "output_type": "stream",
          "text": [
            "x is a <class 'list'>\n",
            "tuple(x) is a <class 'tuple'>\n"
          ],
          "name": "stdout"
        },
        {
          "output_type": "execute_result",
          "data": {
            "text/plain": [
              "(2, 'hello', 3.0)"
            ]
          },
          "metadata": {
            "tags": []
          },
          "execution_count": 26
        }
      ]
    },
    {
      "cell_type": "markdown",
      "metadata": {
        "id": "amSdrwW2TooH",
        "colab_type": "text"
      },
      "source": [
        "We can also convert a tuple to a list using the list function."
      ]
    },
    {
      "cell_type": "code",
      "metadata": {
        "hide-output": false,
        "id": "YTGcMWOBTooJ",
        "colab_type": "code",
        "outputId": "04b5db1f-52d4-4806-9586-d7a482818c59",
        "colab": {
          "base_uri": "https://localhost:8080/",
          "height": 34
        }
      },
      "source": [
        "list(t)"
      ],
      "execution_count": 27,
      "outputs": [
        {
          "output_type": "execute_result",
          "data": {
            "text/plain": [
              "[1, 'hello', 3.0]"
            ]
          },
          "metadata": {
            "tags": []
          },
          "execution_count": 27
        }
      ]
    },
    {
      "cell_type": "markdown",
      "metadata": {
        "id": "SulJanACTooR",
        "colab_type": "text"
      },
      "source": [
        "As with a list, we access items in a tuple `t` using `t[N]` where\n",
        "`N` is an int."
      ]
    },
    {
      "cell_type": "code",
      "metadata": {
        "hide-output": false,
        "id": "UjzH-qF0TooV",
        "colab_type": "code",
        "outputId": "2c872fd9-50d3-4312-b2f5-a615434a3c53",
        "colab": {
          "base_uri": "https://localhost:8080/",
          "height": 34
        }
      },
      "source": [
        "t[0]  # still start counting at 0"
      ],
      "execution_count": 28,
      "outputs": [
        {
          "output_type": "execute_result",
          "data": {
            "text/plain": [
              "1"
            ]
          },
          "metadata": {
            "tags": []
          },
          "execution_count": 28
        }
      ]
    },
    {
      "cell_type": "code",
      "metadata": {
        "hide-output": false,
        "id": "YeJKEJKMTooh",
        "colab_type": "code",
        "outputId": "3355325d-241d-48ca-e58d-7fc1c23363d1",
        "colab": {
          "base_uri": "https://localhost:8080/",
          "height": 34
        }
      },
      "source": [
        "t[2]"
      ],
      "execution_count": 29,
      "outputs": [
        {
          "output_type": "execute_result",
          "data": {
            "text/plain": [
              "3.0"
            ]
          },
          "metadata": {
            "tags": []
          },
          "execution_count": 29
        }
      ]
    },
    {
      "cell_type": "markdown",
      "metadata": {
        "id": "9-ZxHdQKToot",
        "colab_type": "text"
      },
      "source": [
        "\n",
        "<a id='exercise-2'></a>\n",
        "> See exercise 3 in the [*exercise list*](#exerciselist-0)\n",
        "\n",
        "\n",
        "Tuples (and lists) can be unpacked directly into variables."
      ]
    },
    {
      "cell_type": "code",
      "metadata": {
        "hide-output": false,
        "id": "QC1sFtCoToox",
        "colab_type": "code",
        "outputId": "423e2075-0fb0-4707-e434-e4a328d11740",
        "colab": {
          "base_uri": "https://localhost:8080/",
          "height": 34
        }
      },
      "source": [
        "x, y = (1, \"test\")\n",
        "print(f\"x = {x}, y = {y}\")"
      ],
      "execution_count": 30,
      "outputs": [
        {
          "output_type": "stream",
          "text": [
            "x = 1, y = test\n"
          ],
          "name": "stdout"
        }
      ]
    },
    {
      "cell_type": "markdown",
      "metadata": {
        "id": "gaAYPex_Too7",
        "colab_type": "text"
      },
      "source": [
        "This will be a convenient way to work with functions returning\n",
        "multiple values, as well as within [comprehensions and loops](control_flow.ipynb)."
      ]
    },
    {
      "cell_type": "markdown",
      "metadata": {
        "id": "P_N3X4VVTopB",
        "colab_type": "text"
      },
      "source": [
        "### List vs Tuple: Which to Use?\n",
        "\n",
        "Should you use a list or tuple?\n",
        "\n",
        "This depends on what you are storing, whether you might need to reorder the elements,\n",
        "or whether you’d add\n",
        "new elements without a complete reinterpretation of the\n",
        "underlying data.\n",
        "\n",
        "For example, take data representing the GDP (in trillions) and population\n",
        "(in billions) for China in 2015."
      ]
    },
    {
      "cell_type": "code",
      "metadata": {
        "hide-output": false,
        "id": "fBkF4d4_TopH",
        "colab_type": "code",
        "outputId": "1462039c-45a6-4b0f-cb77-2619f51e9291",
        "colab": {
          "base_uri": "https://localhost:8080/",
          "height": 34
        }
      },
      "source": [
        "china_data_2015 = (\"China\", 2015, 11.06, 1.371)\n",
        "\n",
        "print(china_data_2015)"
      ],
      "execution_count": 31,
      "outputs": [
        {
          "output_type": "stream",
          "text": [
            "('China', 2015, 11.06, 1.371)\n"
          ],
          "name": "stdout"
        }
      ]
    },
    {
      "cell_type": "markdown",
      "metadata": {
        "id": "Xt0SPm7BTopQ",
        "colab_type": "text"
      },
      "source": [
        "In this case, we have used a tuple since: (a) ordering would\n",
        "be meaningless; and (b) adding more data would require a\n",
        "reinterpretation of the whole data structure.\n",
        "\n",
        "On the other hand, consider a list of GDP in China between\n",
        "2013 and 2015."
      ]
    },
    {
      "cell_type": "code",
      "metadata": {
        "hide-output": false,
        "id": "v5IZq86rTopU",
        "colab_type": "code",
        "outputId": "24b0b203-d8d6-4d81-ccd5-0d177972363f",
        "colab": {
          "base_uri": "https://localhost:8080/",
          "height": 34
        }
      },
      "source": [
        "gdp_data = [9.607, 10.48, 11.06]\n",
        "print(gdp_data)"
      ],
      "execution_count": 32,
      "outputs": [
        {
          "output_type": "stream",
          "text": [
            "[9.607, 10.48, 11.06]\n"
          ],
          "name": "stdout"
        }
      ]
    },
    {
      "cell_type": "markdown",
      "metadata": {
        "id": "8F50EpDATope",
        "colab_type": "text"
      },
      "source": [
        "In this case, we have used a list, since adding on a new\n",
        "element to the end of the list for GDP in 2016 would make\n",
        "complete sense.\n",
        "\n",
        "Along these lines, collecting data on China for different\n",
        "years may make sense as a list of tuples (e.g. year, GDP,\n",
        "and population – although we will see better ways to store this sort of data\n",
        "in the [Pandas](../pandas/index.ipynb) section)."
      ]
    },
    {
      "cell_type": "code",
      "metadata": {
        "hide-output": false,
        "id": "1qzOfRJsTopi",
        "colab_type": "code",
        "outputId": "979be5e2-2f78-4026-b73e-c830c3daded7",
        "colab": {
          "base_uri": "https://localhost:8080/",
          "height": 34
        }
      },
      "source": [
        "china_data = [(2015, 11.06, 1.371), (2014, 10.48, 1.364), (2013, 9.607, 1.357)]\n",
        "print(china_data)"
      ],
      "execution_count": 33,
      "outputs": [
        {
          "output_type": "stream",
          "text": [
            "[(2015, 11.06, 1.371), (2014, 10.48, 1.364), (2013, 9.607, 1.357)]\n"
          ],
          "name": "stdout"
        }
      ]
    },
    {
      "cell_type": "markdown",
      "metadata": {
        "id": "CquwEdN2Topz",
        "colab_type": "text"
      },
      "source": [
        "In general, a rule of thumb is to use a list unless you *need* to use a tuple.\n",
        "\n",
        "Key criteria for tuple use are when you want to:\n",
        "\n",
        "- ensure the *order* of elements can’t change  \n",
        "- ensure the actual values of the elements can’t\n",
        "  change  \n",
        "- use the collection as a key in a dict (we will learn what this\n",
        "  means [soon](.ipynb))  "
      ]
    },
    {
      "cell_type": "markdown",
      "metadata": {
        "id": "faZqj0ZaTop1",
        "colab_type": "text"
      },
      "source": [
        "### `zip` and `enumerate` functions\n",
        "\n",
        "Two functions that can be extremely useful are `zip` and `enumerate`.\n",
        "\n",
        "Both of these functions are best understood by example, so let’s see\n",
        "them in action and then talk about what they do."
      ]
    },
    {
      "cell_type": "code",
      "metadata": {
        "hide-output": false,
        "id": "96HrFIAJToqD",
        "colab_type": "code",
        "outputId": "8d9b275c-e84a-49a3-b21c-63a83edce5a2",
        "colab": {
          "base_uri": "https://localhost:8080/",
          "height": 34
        }
      },
      "source": [
        "gdp_data = [9.607, 10.48, 11.06]\n",
        "years = [2013, 2014, 2015]\n",
        "z = zip(years, gdp_data)\n",
        "print(\"type(z)\", type(z))"
      ],
      "execution_count": 34,
      "outputs": [
        {
          "output_type": "stream",
          "text": [
            "type(z) <class 'zip'>\n"
          ],
          "name": "stdout"
        }
      ]
    },
    {
      "cell_type": "code",
      "metadata": {
        "id": "niHBC4lnzIRO",
        "colab_type": "code",
        "colab": {
          "base_uri": "https://localhost:8080/",
          "height": 34
        },
        "outputId": "bf2bbc69-2613-4edd-94d5-6246733dcd50"
      },
      "source": [
        "z"
      ],
      "execution_count": 35,
      "outputs": [
        {
          "output_type": "execute_result",
          "data": {
            "text/plain": [
              "<zip at 0x7f218c3262c8>"
            ]
          },
          "metadata": {
            "tags": []
          },
          "execution_count": 35
        }
      ]
    },
    {
      "cell_type": "markdown",
      "metadata": {
        "id": "AyvQ5MzvToqS",
        "colab_type": "text"
      },
      "source": [
        "To see what is inside `z`, let’s convert it to a list."
      ]
    },
    {
      "cell_type": "code",
      "metadata": {
        "hide-output": false,
        "id": "ASPn7QX0ToqU",
        "colab_type": "code",
        "outputId": "b034c2d7-6416-41d7-f5c2-ba36e27aceb6",
        "colab": {
          "base_uri": "https://localhost:8080/",
          "height": 34
        }
      },
      "source": [
        "list(z)"
      ],
      "execution_count": 36,
      "outputs": [
        {
          "output_type": "execute_result",
          "data": {
            "text/plain": [
              "[(2013, 9.607), (2014, 10.48), (2015, 11.06)]"
            ]
          },
          "metadata": {
            "tags": []
          },
          "execution_count": 36
        }
      ]
    },
    {
      "cell_type": "markdown",
      "metadata": {
        "id": "1wbsIUMlToqa",
        "colab_type": "text"
      },
      "source": [
        "Notice that **we now have a list where each item is a tuple**\n",
        "\n",
        "Within each tuple, we have one item from each of the collections we\n",
        "passed to the zip function.\n",
        "\n",
        "In particular, the first item in `z` contains the first item from\n",
        "`[2013, 2014, 2015]` and the first item from `[9.607, 10.48, 11.06]`.\n",
        "\n",
        "The second item in `z` contains the second item from each collection\n",
        "and so on.\n",
        "\n",
        "We can access an element in this and then unpack the resulting\n",
        "tuple directly into variables."
      ]
    },
    {
      "cell_type": "code",
      "metadata": {
        "hide-output": false,
        "id": "34eG64QKToqd",
        "colab_type": "code",
        "outputId": "0b84cb83-45fe-41b3-fa1b-3fe4398dc5ab",
        "colab": {
          "base_uri": "https://localhost:8080/",
          "height": 34
        }
      },
      "source": [
        "l = list(zip(years, gdp_data))\n",
        "x, y = l[0]\n",
        "print(f\"year = {x}, GDP = {y}\")"
      ],
      "execution_count": 37,
      "outputs": [
        {
          "output_type": "stream",
          "text": [
            "year = 2013, GDP = 9.607\n"
          ],
          "name": "stdout"
        }
      ]
    },
    {
      "cell_type": "markdown",
      "metadata": {
        "id": "92vPtQ2KToqs",
        "colab_type": "text"
      },
      "source": [
        "Now let’s experiment with `enumerate`."
      ]
    },
    {
      "cell_type": "code",
      "metadata": {
        "hide-output": false,
        "id": "IJBm5YIpToqv",
        "colab_type": "code",
        "outputId": "951cbd65-9b4d-49eb-e652-cc40085c4611",
        "colab": {
          "base_uri": "https://localhost:8080/",
          "height": 51
        }
      },
      "source": [
        "e = enumerate([\"a\", \"b\", \"c\"])\n",
        "print(\"type(e)\", type(e))\n",
        "e"
      ],
      "execution_count": 38,
      "outputs": [
        {
          "output_type": "stream",
          "text": [
            "type(e) <class 'enumerate'>\n"
          ],
          "name": "stdout"
        },
        {
          "output_type": "execute_result",
          "data": {
            "text/plain": [
              "<enumerate at 0x7f218b977048>"
            ]
          },
          "metadata": {
            "tags": []
          },
          "execution_count": 38
        }
      ]
    },
    {
      "cell_type": "markdown",
      "metadata": {
        "id": "W1DCR9mHToq3",
        "colab_type": "text"
      },
      "source": [
        "Again, we call `list(e)` to see what is inside."
      ]
    },
    {
      "cell_type": "code",
      "metadata": {
        "hide-output": false,
        "id": "Dq4oTdwVToq5",
        "colab_type": "code",
        "outputId": "9080ac40-f116-46a1-d44f-ddf1f65736a6",
        "colab": {
          "base_uri": "https://localhost:8080/",
          "height": 34
        }
      },
      "source": [
        "list(e)"
      ],
      "execution_count": 39,
      "outputs": [
        {
          "output_type": "execute_result",
          "data": {
            "text/plain": [
              "[(0, 'a'), (1, 'b'), (2, 'c')]"
            ]
          },
          "metadata": {
            "tags": []
          },
          "execution_count": 39
        }
      ]
    },
    {
      "cell_type": "markdown",
      "metadata": {
        "id": "2V3tX7YUTorC",
        "colab_type": "text"
      },
      "source": [
        "We again have a list of tuples, but this time, the first element in each\n",
        "tuple is the *index* of the second tuple element in the initial\n",
        "collection.\n",
        "\n",
        "Notice that the third item is `(2, 'c')` because\n",
        "`[\"a\", \"b\", \"c\"][2]` is `'c'`\n",
        "\n",
        "\n",
        "<a id='exercise-3'></a>\n",
        "> See exercise 4 in the [*exercise list*](#exerciselist-0)\n",
        "\n",
        "\n",
        "An important quirk of some iterable types that are not lists (such as the above `zip`) is that\n",
        "you cannot convert the same type to a list twice.\n",
        "\n",
        "This is because `zip`, `enumerate`, and `range` produce what is called a generator.\n",
        "\n",
        "A generator will only produce each of its elements a single time, so if you call `list` on the same\n",
        "generator a second time, it will not have any elements to iterate over anymore.\n",
        "\n",
        "For more information, refer to the [Python documentation](https://docs.python.org/3/howto/functional.html#generators)."
      ]
    },
    {
      "cell_type": "code",
      "metadata": {
        "hide-output": false,
        "id": "CUb6UBz6TorE",
        "colab_type": "code",
        "outputId": "7094c200-a198-41f5-e58d-8b88bf9ad7e0",
        "colab": {
          "base_uri": "https://localhost:8080/",
          "height": 51
        }
      },
      "source": [
        "gdp_data = [9.607, 10.48, 11.06]\n",
        "years = [2013, 2014, 2015]\n",
        "z = zip(years, gdp_data)\n",
        "l = list(z)\n",
        "print(l)\n",
        "m = list(z)\n",
        "print(m)"
      ],
      "execution_count": 40,
      "outputs": [
        {
          "output_type": "stream",
          "text": [
            "[(2013, 9.607), (2014, 10.48), (2015, 11.06)]\n",
            "[]\n"
          ],
          "name": "stdout"
        }
      ]
    },
    {
      "cell_type": "markdown",
      "metadata": {
        "id": "Sk5SPPR5TorV",
        "colab_type": "text"
      },
      "source": [
        "## Associative Collections"
      ]
    },
    {
      "cell_type": "markdown",
      "metadata": {
        "id": "GNfr6JDTTora",
        "colab_type": "text"
      },
      "source": [
        "### Dictionaries\n",
        "\n",
        "A dictionary (or dict) associates `key`s with `value`s.\n",
        "\n",
        "It will feel similar to a dictionary for words, where the keys are words and\n",
        "the values are the associated definitions.\n",
        "\n",
        "The most common way to create a `dict` is to use curly braces — `{`\n",
        "and `}` — like this:"
      ]
    },
    {
      "cell_type": "markdown",
      "metadata": {
        "hide-output": false,
        "id": "5ezDBQ8iTorg",
        "colab_type": "text"
      },
      "source": [
        "```python\n",
        "{\"key1\": value1, \"key2\": value2, ..., \"keyN\": valueN}\n",
        "```\n"
      ]
    },
    {
      "cell_type": "markdown",
      "metadata": {
        "id": "ERErx-rdTorm",
        "colab_type": "text"
      },
      "source": [
        "where the `...` indicates that we can have any number of additional\n",
        "terms.\n",
        "\n",
        "The crucial part of the syntax is that each key-value pair is written\n",
        "`key: value` and that these pairs are separated by commas — `,`.\n",
        "\n",
        "Let’s see an example using our aggregate data on China in 2015."
      ]
    },
    {
      "cell_type": "code",
      "metadata": {
        "hide-output": false,
        "id": "GcpUvffXTorp",
        "colab_type": "code",
        "outputId": "4fe3c6d1-3a73-421d-8808-b521616832bc",
        "colab": {
          "base_uri": "https://localhost:8080/",
          "height": 34
        }
      },
      "source": [
        "china_data = {\"country\": \"China\", \"year\": 2015, \"GDP\" : 11.06, \"population\": 1.371}\n",
        "print(china_data)"
      ],
      "execution_count": 41,
      "outputs": [
        {
          "output_type": "stream",
          "text": [
            "{'country': 'China', 'year': 2015, 'GDP': 11.06, 'population': 1.371}\n"
          ],
          "name": "stdout"
        }
      ]
    },
    {
      "cell_type": "markdown",
      "metadata": {
        "id": "n3yKcj_8Torz",
        "colab_type": "text"
      },
      "source": [
        "Unlike our above example using a `tuple`, a `dict` allows us to\n",
        "associate a name with each field, rather than having to remember the\n",
        "order within the tuple.\n",
        "\n",
        "Often, code that makes a dict is easier to read if we put each\n",
        "`key: value` pair on its own line. (Recall our earlier comment on\n",
        "using whitespace effectively to improve readability!)\n",
        "\n",
        "The code below is equivalent to what we saw above."
      ]
    },
    {
      "cell_type": "code",
      "metadata": {
        "hide-output": false,
        "id": "uy66-hEyTor2",
        "colab_type": "code",
        "colab": {}
      },
      "source": [
        "china_data = {\n",
        "    \"country\": \"China\",\n",
        "    \"year\": 2015,\n",
        "    \"GDP\" : 11.06,\n",
        "    \"population\": 1.371\n",
        "}"
      ],
      "execution_count": 0,
      "outputs": []
    },
    {
      "cell_type": "markdown",
      "metadata": {
        "id": "kfw-BQKGTosA",
        "colab_type": "text"
      },
      "source": [
        "Most often, the keys (e.g. “country”, “year”, “GDP”, and “population”)\n",
        "will be strings, but we could also use numbers (`int`, or\n",
        "`float`) or even tuples (or, rarely, a combination of types).\n",
        "\n",
        "The values can be **any** type and different from each other.\n",
        "\n",
        "\n",
        "<a id='exercise-4'></a>\n",
        "> See exercise 5 in the [*exercise list*](#exerciselist-0)\n",
        "\n",
        "\n",
        "This next example is meant to emphasize how values can be\n",
        "*anything* – including another dictionary."
      ]
    },
    {
      "cell_type": "code",
      "metadata": {
        "hide-output": false,
        "id": "f_oBs99vTosG",
        "colab_type": "code",
        "outputId": "438021ae-3a49-4dfa-f5c7-bf1135c91ead",
        "colab": {
          "base_uri": "https://localhost:8080/",
          "height": 54
        }
      },
      "source": [
        "companies = {\"AAPL\": {\"bid\": 175.96, \"ask\": 175.98},\n",
        "             \"GE\": {\"bid\": 1047.03, \"ask\": 1048.40},\n",
        "             \"TVIX\": {\"bid\": 8.38, \"ask\": 8.40}}\n",
        "print(companies)"
      ],
      "execution_count": 43,
      "outputs": [
        {
          "output_type": "stream",
          "text": [
            "{'AAPL': {'bid': 175.96, 'ask': 175.98}, 'GE': {'bid': 1047.03, 'ask': 1048.4}, 'TVIX': {'bid': 8.38, 'ask': 8.4}}\n"
          ],
          "name": "stdout"
        }
      ]
    },
    {
      "cell_type": "markdown",
      "metadata": {
        "id": "hDzabSKmTosU",
        "colab_type": "text"
      },
      "source": [
        "#### Getting, Setting, and Updating dict Items\n",
        "\n",
        "We can now ask Python to tell us the value for a particular key by using\n",
        "the syntax `d[k]`,  where `d` is our `dict` and `k` is the key for which we want to\n",
        "find the value.\n",
        "\n",
        "For example,"
      ]
    },
    {
      "cell_type": "code",
      "metadata": {
        "hide-output": false,
        "id": "GeT_hExJTosX",
        "colab_type": "code",
        "outputId": "97f60f56-32ce-46ec-818b-b014e0a89075",
        "colab": {
          "base_uri": "https://localhost:8080/",
          "height": 51
        }
      },
      "source": [
        "print(china_data[\"year\"])\n",
        "print(f\"country = {china_data['country']}, population = {china_data['population']}\")"
      ],
      "execution_count": 44,
      "outputs": [
        {
          "output_type": "stream",
          "text": [
            "2015\n",
            "country = China, population = 1.371\n"
          ],
          "name": "stdout"
        }
      ]
    },
    {
      "cell_type": "markdown",
      "metadata": {
        "id": "gJ5tDeCKTosg",
        "colab_type": "text"
      },
      "source": [
        "Note: when inside of a formatting string, you can use `'` instead of `\"` as above\n",
        "to ensure the formatting still works with the embedded code.\n",
        "\n",
        "If we ask for the value of a key that is not in the dict, we will get an error."
      ]
    },
    {
      "cell_type": "code",
      "metadata": {
        "hide-output": false,
        "id": "qmDba0S8Tosi",
        "colab_type": "code",
        "colab": {
          "base_uri": "https://localhost:8080/",
          "height": 164
        },
        "outputId": "a0790096-8a57-420d-9525-a9de9715b0b4"
      },
      "source": [
        "# uncomment the line below to see the error\n",
        "china_data[\"inflation\"]"
      ],
      "execution_count": 45,
      "outputs": [
        {
          "output_type": "error",
          "ename": "KeyError",
          "evalue": "ignored",
          "traceback": [
            "\u001b[0;31m---------------------------------------------------------------------------\u001b[0m",
            "\u001b[0;31mKeyError\u001b[0m                                  Traceback (most recent call last)",
            "\u001b[0;32m<ipython-input-45-6094e1db70df>\u001b[0m in \u001b[0;36m<module>\u001b[0;34m()\u001b[0m\n\u001b[0;32m----> 1\u001b[0;31m \u001b[0mchina_data\u001b[0m\u001b[0;34m[\u001b[0m\u001b[0;34m\"inflation\"\u001b[0m\u001b[0;34m]\u001b[0m\u001b[0;34m\u001b[0m\u001b[0;34m\u001b[0m\u001b[0m\n\u001b[0m",
            "\u001b[0;31mKeyError\u001b[0m: 'inflation'"
          ]
        }
      ]
    },
    {
      "cell_type": "markdown",
      "metadata": {
        "id": "ZnAo1xhaToso",
        "colab_type": "text"
      },
      "source": [
        "We can also add new items to a dict using the syntax `d[new_key] = new_value`.\n",
        "\n",
        "Let’s see some examples."
      ]
    },
    {
      "cell_type": "code",
      "metadata": {
        "hide-output": false,
        "id": "yBRddIcZTosp",
        "colab_type": "code",
        "outputId": "993a34c6-7a1f-4c4d-db55-ee9ba3048b0f",
        "colab": {
          "base_uri": "https://localhost:8080/",
          "height": 51
        }
      },
      "source": [
        "print(china_data)\n",
        "china_data[\"unemployment\"] = \"4.05%\"\n",
        "print(china_data)"
      ],
      "execution_count": 46,
      "outputs": [
        {
          "output_type": "stream",
          "text": [
            "{'country': 'China', 'year': 2015, 'GDP': 11.06, 'population': 1.371}\n",
            "{'country': 'China', 'year': 2015, 'GDP': 11.06, 'population': 1.371, 'unemployment': '4.05%'}\n"
          ],
          "name": "stdout"
        }
      ]
    },
    {
      "cell_type": "markdown",
      "metadata": {
        "id": "CTz5nl2TTost",
        "colab_type": "text"
      },
      "source": [
        "To update the value, we use assignment in the same way (which will\n",
        "create the key and value as required)."
      ]
    },
    {
      "cell_type": "code",
      "metadata": {
        "hide-output": false,
        "id": "B9QnJkW7Tosv",
        "colab_type": "code",
        "outputId": "2c268d2a-b1db-4e55-b7a8-5dc20056e71f",
        "colab": {
          "base_uri": "https://localhost:8080/",
          "height": 51
        }
      },
      "source": [
        "print(china_data)\n",
        "china_data[\"unemployment\"] = \"4.051%\"\n",
        "print(china_data)"
      ],
      "execution_count": 47,
      "outputs": [
        {
          "output_type": "stream",
          "text": [
            "{'country': 'China', 'year': 2015, 'GDP': 11.06, 'population': 1.371, 'unemployment': '4.05%'}\n",
            "{'country': 'China', 'year': 2015, 'GDP': 11.06, 'population': 1.371, 'unemployment': '4.051%'}\n"
          ],
          "name": "stdout"
        }
      ]
    },
    {
      "cell_type": "markdown",
      "metadata": {
        "id": "iVIiaLaWTos1",
        "colab_type": "text"
      },
      "source": [
        "Or we could change the type."
      ]
    },
    {
      "cell_type": "code",
      "metadata": {
        "hide-output": false,
        "id": "UrCYlQ5dTos3",
        "colab_type": "code",
        "outputId": "a89af8d8-9705-4a83-95c2-a63f6101fb88",
        "colab": {
          "base_uri": "https://localhost:8080/",
          "height": 34
        }
      },
      "source": [
        "china_data[\"unemployment\"] = 4.051\n",
        "print(china_data)"
      ],
      "execution_count": 48,
      "outputs": [
        {
          "output_type": "stream",
          "text": [
            "{'country': 'China', 'year': 2015, 'GDP': 11.06, 'population': 1.371, 'unemployment': 4.051}\n"
          ],
          "name": "stdout"
        }
      ]
    },
    {
      "cell_type": "markdown",
      "metadata": {
        "id": "y-LgucqxTotB",
        "colab_type": "text"
      },
      "source": [
        "\n",
        "<a id='exercise-5'></a>\n",
        "> See exercise 6 in the [*exercise list*](#exerciselist-0)"
      ]
    },
    {
      "cell_type": "markdown",
      "metadata": {
        "id": "_gyVo7--TotD",
        "colab_type": "text"
      },
      "source": [
        "#### Common `dict` Functionality\n",
        "\n",
        "We can do some common things with dicts.\n",
        "\n",
        "We will demonstrate them with examples below."
      ]
    },
    {
      "cell_type": "code",
      "metadata": {
        "hide-output": false,
        "id": "e1Cfb3eHTotI",
        "colab_type": "code",
        "outputId": "2bc524e8-0182-4f39-92fc-609f3a68d0d2",
        "colab": {
          "base_uri": "https://localhost:8080/",
          "height": 34
        }
      },
      "source": [
        "# number of key-value pairs in a dict\n",
        "len(china_data)"
      ],
      "execution_count": 49,
      "outputs": [
        {
          "output_type": "execute_result",
          "data": {
            "text/plain": [
              "5"
            ]
          },
          "metadata": {
            "tags": []
          },
          "execution_count": 49
        }
      ]
    },
    {
      "cell_type": "code",
      "metadata": {
        "hide-output": false,
        "id": "WINIf_YlTotN",
        "colab_type": "code",
        "outputId": "5067cc72-15b0-43ec-a878-2bf42341c684",
        "colab": {
          "base_uri": "https://localhost:8080/",
          "height": 34
        }
      },
      "source": [
        "# get a list of all the keys\n",
        "list(china_data.keys())"
      ],
      "execution_count": 50,
      "outputs": [
        {
          "output_type": "execute_result",
          "data": {
            "text/plain": [
              "['country', 'year', 'GDP', 'population', 'unemployment']"
            ]
          },
          "metadata": {
            "tags": []
          },
          "execution_count": 50
        }
      ]
    },
    {
      "cell_type": "code",
      "metadata": {
        "hide-output": false,
        "id": "-vVgpTgvTotW",
        "colab_type": "code",
        "outputId": "d644f89c-8f98-4a59-9a4a-d6bebb5fbf13",
        "colab": {
          "base_uri": "https://localhost:8080/",
          "height": 34
        }
      },
      "source": [
        "# get a list of all the values\n",
        "list(china_data.values())"
      ],
      "execution_count": 51,
      "outputs": [
        {
          "output_type": "execute_result",
          "data": {
            "text/plain": [
              "['China', 2015, 11.06, 1.371, 4.051]"
            ]
          },
          "metadata": {
            "tags": []
          },
          "execution_count": 51
        }
      ]
    },
    {
      "cell_type": "code",
      "metadata": {
        "hide-output": false,
        "id": "G8o-7hMpTotm",
        "colab_type": "code",
        "outputId": "109f0615-4108-4d1c-d230-2ca0b376a1fa",
        "colab": {
          "base_uri": "https://localhost:8080/",
          "height": 136
        }
      },
      "source": [
        "more_china_data = {\"irrigated_land\": 690_070, \"top_religions\": {\"buddhist\": 18.2, \"christian\" : 5.1, \"muslim\": 1.8}}\n",
        "\n",
        "# Add all key-value pairs in mydict2 to mydict.\n",
        "# if the key already appears in mydict, overwrite the\n",
        "# value with the value in mydict2\n",
        "china_data.update(more_china_data)\n",
        "china_data"
      ],
      "execution_count": 52,
      "outputs": [
        {
          "output_type": "execute_result",
          "data": {
            "text/plain": [
              "{'GDP': 11.06,\n",
              " 'country': 'China',\n",
              " 'irrigated_land': 690070,\n",
              " 'population': 1.371,\n",
              " 'top_religions': {'buddhist': 18.2, 'christian': 5.1, 'muslim': 1.8},\n",
              " 'unemployment': 4.051,\n",
              " 'year': 2015}"
            ]
          },
          "metadata": {
            "tags": []
          },
          "execution_count": 52
        }
      ]
    },
    {
      "cell_type": "code",
      "metadata": {
        "hide-output": false,
        "id": "i_dThM8bTots",
        "colab_type": "code",
        "outputId": "b4e48da7-3108-4557-e971-664d5798f964",
        "colab": {
          "base_uri": "https://localhost:8080/",
          "height": 34
        }
      },
      "source": [
        "# Get the value associated with a key or return a default value\n",
        "# use this to avoid the NameError we saw above if you have a reasonable\n",
        "# default value\n",
        "china_data.get(\"irrigated_land\", \"Data Not Available\")"
      ],
      "execution_count": 54,
      "outputs": [
        {
          "output_type": "execute_result",
          "data": {
            "text/plain": [
              "690070"
            ]
          },
          "metadata": {
            "tags": []
          },
          "execution_count": 54
        }
      ]
    },
    {
      "cell_type": "code",
      "metadata": {
        "hide-output": false,
        "id": "sRlYQqZMTot2",
        "colab_type": "code",
        "outputId": "a9876223-18a3-472a-f41f-435891ee8bea",
        "colab": {
          "base_uri": "https://localhost:8080/",
          "height": 34
        }
      },
      "source": [
        "china_data.get(\"death_rate\", \"Data Not Available\")"
      ],
      "execution_count": 55,
      "outputs": [
        {
          "output_type": "execute_result",
          "data": {
            "text/plain": [
              "'Data Not Available'"
            ]
          },
          "metadata": {
            "tags": []
          },
          "execution_count": 55
        }
      ]
    },
    {
      "cell_type": "markdown",
      "metadata": {
        "id": "IaXmI3K3Tot8",
        "colab_type": "text"
      },
      "source": [
        "\n",
        "<a id='exercise-6'></a>\n",
        "> See exercise 7 in the [*exercise list*](#exerciselist-0)\n",
        "\n",
        "\n",
        "\n",
        "<a id='exercise-7'></a>\n",
        "> See exercise 8 in the [*exercise list*](#exerciselist-0)"
      ]
    },
    {
      "cell_type": "markdown",
      "metadata": {
        "id": "5X8E6dnTTot-",
        "colab_type": "text"
      },
      "source": [
        "### Sets (Optional)\n",
        "\n",
        "Python has an additional way to represent collections of items: sets.\n",
        "\n",
        "Sets come up infrequently, but you should be aware of them.\n",
        "\n",
        "If you are familiar with the mathematical concept of sets, then you will\n",
        "understand the majority of Python sets already.\n",
        "\n",
        "If you don’t know the math behind sets, don’t worry: we’ll cover the\n",
        "basics of Python’s sets here.\n",
        "\n",
        "A set is an *unordered* collection of *unique* elements.\n",
        "\n",
        "The syntax for creating a set uses curly bracket `{` and `}`."
      ]
    },
    {
      "cell_type": "markdown",
      "metadata": {
        "hide-output": false,
        "id": "nLeC486wTouA",
        "colab_type": "text"
      },
      "source": [
        "```python\n",
        "{item1, item2, ..., itemN}\n",
        "```\n"
      ]
    },
    {
      "cell_type": "markdown",
      "metadata": {
        "id": "vwhD291MTouB",
        "colab_type": "text"
      },
      "source": [
        "Here is an example."
      ]
    },
    {
      "cell_type": "code",
      "metadata": {
        "hide-output": false,
        "id": "-ccoSePQTouC",
        "colab_type": "code",
        "outputId": "0b3e5f9d-34a4-4029-a1d0-73d67a8e8e74",
        "colab": {}
      },
      "source": [
        "s = {1, \"hello\", 3.0}\n",
        "print(\"s has type\", type(s))\n",
        "s"
      ],
      "execution_count": 0,
      "outputs": [
        {
          "output_type": "stream",
          "text": [
            "s has type <class 'set'>\n"
          ],
          "name": "stdout"
        },
        {
          "output_type": "execute_result",
          "data": {
            "text/plain": [
              "{1, 3.0, 'hello'}"
            ]
          },
          "metadata": {
            "tags": []
          },
          "execution_count": 51
        }
      ]
    },
    {
      "cell_type": "markdown",
      "metadata": {
        "id": "QEA859v3TouK",
        "colab_type": "text"
      },
      "source": [
        "\n",
        "<a id='exercise-8'></a>\n",
        "> See exercise 9 in the [*exercise list*](#exerciselist-0)\n",
        "\n",
        "\n",
        "As with lists and tuples, we can check if something is `in` the set\n",
        "and check the set’s length:"
      ]
    },
    {
      "cell_type": "code",
      "metadata": {
        "hide-output": false,
        "id": "Us60-O9RTouL",
        "colab_type": "code",
        "outputId": "4b4fd4cb-07e4-4a97-abc4-4e0cbb121f01",
        "colab": {}
      },
      "source": [
        "print(\"len(s) =\", len(s))\n",
        "\"hello\" in s"
      ],
      "execution_count": 0,
      "outputs": [
        {
          "output_type": "stream",
          "text": [
            "len(s) = 3\n"
          ],
          "name": "stdout"
        },
        {
          "output_type": "execute_result",
          "data": {
            "text/plain": [
              "True"
            ]
          },
          "metadata": {
            "tags": []
          },
          "execution_count": 52
        }
      ]
    },
    {
      "cell_type": "markdown",
      "metadata": {
        "id": "J9KAJCC6TouW",
        "colab_type": "text"
      },
      "source": [
        "Unlike lists and tuples, we can’t extract elements of a set `s` using\n",
        "`s[N]` where `N` is a number."
      ]
    },
    {
      "cell_type": "markdown",
      "metadata": {
        "hide-output": false,
        "id": "t7hNzdynTouX",
        "colab_type": "text"
      },
      "source": [
        "```python\n",
        "# Uncomment the line below to see what happens\n",
        "# s[1]\n",
        "```\n"
      ]
    },
    {
      "cell_type": "markdown",
      "metadata": {
        "id": "WOyYfVk7TouY",
        "colab_type": "text"
      },
      "source": [
        "This is because sets are not ordered, so the notion of getting the\n",
        "second element (`s[1]`) is not well defined.\n",
        "\n",
        "We add elements to a set `s` using `s.add`."
      ]
    },
    {
      "cell_type": "code",
      "metadata": {
        "hide-output": false,
        "id": "X6feikxJToub",
        "colab_type": "code",
        "outputId": "61dff431-54e2-4848-e9e7-fb03d0cba7a5",
        "colab": {}
      },
      "source": [
        "s.add(100)\n",
        "s"
      ],
      "execution_count": 0,
      "outputs": [
        {
          "output_type": "execute_result",
          "data": {
            "text/plain": [
              "{1, 100, 3.0, 'hello'}"
            ]
          },
          "metadata": {
            "tags": []
          },
          "execution_count": 53
        }
      ]
    },
    {
      "cell_type": "code",
      "metadata": {
        "hide-output": false,
        "id": "NMyo63iiToug",
        "colab_type": "code",
        "outputId": "0d2ae322-51ce-4522-a2a3-77c6f6aa8fbd",
        "colab": {}
      },
      "source": [
        "s.add(\"hello\") # nothing happens, why?\n",
        "s"
      ],
      "execution_count": 0,
      "outputs": [
        {
          "output_type": "execute_result",
          "data": {
            "text/plain": [
              "{1, 100, 3.0, 'hello'}"
            ]
          },
          "metadata": {
            "tags": []
          },
          "execution_count": 54
        }
      ]
    },
    {
      "cell_type": "markdown",
      "metadata": {
        "id": "X75IDFu7Toul",
        "colab_type": "text"
      },
      "source": [
        "We can also do set operations.\n",
        "\n",
        "Consider the set `s` from above and the set\n",
        "`s2 = {\"hello\", \"world\"}`.\n",
        "\n",
        "- `s.union(s2)`: returns a set with all elements in either `s` or\n",
        "  `s2`  \n",
        "- `s.intersection(s2)`: returns a set with all elements in both `s`\n",
        "  and `s2`  \n",
        "- `s.difference(s2)`: returns a set with all elements in `s` that\n",
        "  aren’t in `s2`  \n",
        "- `s.symmetric_difference(s2)`: returns a set with all elements in\n",
        "  only one of `s` and `s2`  \n",
        "\n",
        "\n",
        "\n",
        "<a id='exercise-9'></a>\n",
        "> See exercise 10 in the [*exercise list*](#exerciselist-0)\n",
        "\n",
        "\n",
        "As with tuples and lists, a `set` function can convert other\n",
        "collections to sets."
      ]
    },
    {
      "cell_type": "code",
      "metadata": {
        "hide-output": false,
        "id": "oFyIw3vzToun",
        "colab_type": "code",
        "outputId": "0567fc62-537c-4d1d-e53a-7d4fdc62bc2f",
        "colab": {}
      },
      "source": [
        "x = [1, 2, 3, 1]\n",
        "set(x)"
      ],
      "execution_count": 0,
      "outputs": [
        {
          "output_type": "execute_result",
          "data": {
            "text/plain": [
              "{1, 2, 3}"
            ]
          },
          "metadata": {
            "tags": []
          },
          "execution_count": 55
        }
      ]
    },
    {
      "cell_type": "code",
      "metadata": {
        "hide-output": false,
        "id": "eNdVrh9QToxW",
        "colab_type": "code",
        "outputId": "5aef9c8a-873b-4046-84e9-c40fcb2f2e2a",
        "colab": {}
      },
      "source": [
        "t = (1, 2, 3, 1)\n",
        "set(t)"
      ],
      "execution_count": 0,
      "outputs": [
        {
          "output_type": "execute_result",
          "data": {
            "text/plain": [
              "{1, 2, 3}"
            ]
          },
          "metadata": {
            "tags": []
          },
          "execution_count": 56
        }
      ]
    },
    {
      "cell_type": "markdown",
      "metadata": {
        "id": "PyxWrJFqToxe",
        "colab_type": "text"
      },
      "source": [
        "Likewise, we can convert sets to lists and tuples."
      ]
    },
    {
      "cell_type": "code",
      "metadata": {
        "hide-output": false,
        "id": "S8wqmYbpToxf",
        "colab_type": "code",
        "outputId": "036ec8df-7b22-45f6-e659-52fe357b561d",
        "colab": {}
      },
      "source": [
        "list(s)"
      ],
      "execution_count": 0,
      "outputs": [
        {
          "output_type": "execute_result",
          "data": {
            "text/plain": [
              "[100, 1, 3.0, 'hello']"
            ]
          },
          "metadata": {
            "tags": []
          },
          "execution_count": 57
        }
      ]
    },
    {
      "cell_type": "code",
      "metadata": {
        "hide-output": false,
        "id": "QN-8I1cnToxq",
        "colab_type": "code",
        "outputId": "4ed0ed55-f0cc-4283-c0f7-5bc80012bba0",
        "colab": {}
      },
      "source": [
        "tuple(s)"
      ],
      "execution_count": 0,
      "outputs": [
        {
          "output_type": "execute_result",
          "data": {
            "text/plain": [
              "(100, 1, 3.0, 'hello')"
            ]
          },
          "metadata": {
            "tags": []
          },
          "execution_count": 58
        }
      ]
    },
    {
      "cell_type": "markdown",
      "metadata": {
        "id": "HKy65-iQToyE",
        "colab_type": "text"
      },
      "source": [
        "## Exercises\n",
        "\n",
        "\n",
        "<a id='exerciselist-0'></a>\n",
        "**Exercise 1**\n",
        "\n",
        "In the first cell, try `y.append(z)`.\n",
        "\n",
        "In the second cell try `y.extend(z)`.\n",
        "\n",
        "Explain the behavior.\n",
        "\n",
        "HINT: When you are trying to explain use `y.append?` and `y.extend?` to\n",
        "see a description of what these methods are supposed to do."
      ]
    },
    {
      "cell_type": "code",
      "metadata": {
        "hide-output": true,
        "id": "RdZcDLxlToyF",
        "colab_type": "code",
        "colab": {}
      },
      "source": [
        "y = [\"a\", \"b\", \"c\"]\n",
        "z = [1, 2, 3]\n",
        "# your code here\n",
        "print(y)"
      ],
      "execution_count": 0,
      "outputs": []
    },
    {
      "cell_type": "code",
      "metadata": {
        "hide-output": true,
        "id": "Z8_WEiybToyK",
        "colab_type": "code",
        "colab": {}
      },
      "source": [
        "y = [\"a\", \"b\", \"c\"]\n",
        "z = [1, 2, 3]\n",
        "# your code here\n",
        "print(y)"
      ],
      "execution_count": 0,
      "outputs": []
    },
    {
      "cell_type": "markdown",
      "metadata": {
        "id": "jSf6MbPnToyO",
        "colab_type": "text"
      },
      "source": [
        "([*back to text*](#exercise-0))\n",
        "\n",
        "**Exercise 2**\n",
        "\n",
        "Experiment with the other two versions of the `range` function."
      ]
    },
    {
      "cell_type": "code",
      "metadata": {
        "hide-output": true,
        "id": "TC8BCXjfToyP",
        "colab_type": "code",
        "colab": {}
      },
      "source": [
        "# try list(range(a, N)) -- you pick `a` and `N`"
      ],
      "execution_count": 0,
      "outputs": []
    },
    {
      "cell_type": "code",
      "metadata": {
        "hide-output": true,
        "id": "4jLORZhjToyV",
        "colab_type": "code",
        "colab": {}
      },
      "source": [
        "# try list(range(a, N, d)) -- you pick `a`, `N`, and `d`"
      ],
      "execution_count": 0,
      "outputs": []
    },
    {
      "cell_type": "markdown",
      "metadata": {
        "id": "DrKBt1mFToyX",
        "colab_type": "text"
      },
      "source": [
        "([*back to text*](#exercise-1))\n",
        "\n",
        "**Exercise 3**\n",
        "\n",
        "Verify that tuples are indeed immutable by attempting the following:\n",
        "\n",
        "- Changing the first element of `t` to be `100`  \n",
        "- Appending a new element `\"!!\"` to the end of `t` (remember with a\n",
        "  list `x` we would use `x.append(\"!!\")` to do this  \n",
        "- Sorting `t`  \n",
        "- Reversing `t`  "
      ]
    },
    {
      "cell_type": "code",
      "metadata": {
        "hide-output": true,
        "id": "iA-9_FwuToyY",
        "colab_type": "code",
        "colab": {}
      },
      "source": [
        "# change first element of t"
      ],
      "execution_count": 0,
      "outputs": []
    },
    {
      "cell_type": "code",
      "metadata": {
        "hide-output": true,
        "id": "LaVDgny-Toyb",
        "colab_type": "code",
        "colab": {}
      },
      "source": [
        "# appending to t"
      ],
      "execution_count": 0,
      "outputs": []
    },
    {
      "cell_type": "code",
      "metadata": {
        "hide-output": true,
        "id": "VvF70Pb-Toye",
        "colab_type": "code",
        "colab": {}
      },
      "source": [
        "# sorting t"
      ],
      "execution_count": 0,
      "outputs": []
    },
    {
      "cell_type": "code",
      "metadata": {
        "hide-output": true,
        "id": "JGE0gS34Toyj",
        "colab_type": "code",
        "colab": {}
      },
      "source": [
        "# reversing t"
      ],
      "execution_count": 0,
      "outputs": []
    },
    {
      "cell_type": "markdown",
      "metadata": {
        "id": "-j8rHtbcToym",
        "colab_type": "text"
      },
      "source": [
        "([*back to text*](#exercise-2))\n",
        "\n",
        "**Exercise 4**\n",
        "\n",
        "**Challenging** For the tuple `foo` below, use a combination of `zip`,\n",
        "`range`, and `len` to mimic `enumerate(foo)`.\n",
        "\n",
        "Verify that your proposed solution is correct by converting each to a list\n",
        "and checking equality with `==`.\n",
        "\n",
        "HINT: You can see what the answer should look like by starting with\n",
        "`list(enumerate(foo))`."
      ]
    },
    {
      "cell_type": "code",
      "metadata": {
        "hide-output": false,
        "id": "EKBvcIAsToyn",
        "colab_type": "code",
        "colab": {}
      },
      "source": [
        "foo = (\"good\", \"luck!\")"
      ],
      "execution_count": 0,
      "outputs": []
    },
    {
      "cell_type": "markdown",
      "metadata": {
        "id": "c69YqQp5Toys",
        "colab_type": "text"
      },
      "source": [
        "([*back to text*](#exercise-3))\n",
        "\n",
        "**Exercise 5**\n",
        "\n",
        "Create a new dict which associates stock tickers with its stock price.\n",
        "\n",
        "Here are some tickers and a price.\n",
        "\n",
        "- AAPL: 175.96  \n",
        "- GOOGL: 1047.43  \n",
        "- TVIX: 8.38  "
      ]
    },
    {
      "cell_type": "code",
      "metadata": {
        "hide-output": false,
        "id": "IHG8cn0vToyt",
        "colab_type": "code",
        "colab": {}
      },
      "source": [
        "# your code here"
      ],
      "execution_count": 0,
      "outputs": []
    },
    {
      "cell_type": "markdown",
      "metadata": {
        "id": "Ou23MDlzToyx",
        "colab_type": "text"
      },
      "source": [
        "([*back to text*](#exercise-4))\n",
        "\n",
        "**Exercise 6**\n",
        "\n",
        "Look at the [World Factbook for Australia](https://www.cia.gov/-library/publications/the-world-factbook/geos/as.html)\n",
        "and create a dictionary with data containing the following types:\n",
        "float, string, integer, list, and dict.  Choose any data you wish.\n",
        "\n",
        "To confirm, you should have a dictionary that you identified via a key."
      ]
    },
    {
      "cell_type": "code",
      "metadata": {
        "hide-output": false,
        "id": "IVHo-OymToy0",
        "colab_type": "code",
        "colab": {}
      },
      "source": [
        "# your code here"
      ],
      "execution_count": 0,
      "outputs": []
    },
    {
      "cell_type": "markdown",
      "metadata": {
        "id": "gV71s6cmToy2",
        "colab_type": "text"
      },
      "source": [
        "([*back to text*](#exercise-5))\n",
        "\n",
        "**Exercise 7**\n",
        "\n",
        "Use Jupyter's help facilities to learn how to use the `pop` method to\n",
        "remove the key `\"irrigated_land\"` (and its value) from the dict."
      ]
    },
    {
      "cell_type": "code",
      "metadata": {
        "hide-output": false,
        "id": "rCrGWwQ3Toy4",
        "colab_type": "code",
        "colab": {}
      },
      "source": [
        "# uncomment and use the Inspector or ?\n",
        "#china_data.pop("
      ],
      "execution_count": 0,
      "outputs": []
    },
    {
      "cell_type": "markdown",
      "metadata": {
        "id": "gH0aTsZsTozA",
        "colab_type": "text"
      },
      "source": [
        "([*back to text*](#exercise-6))\n",
        "\n",
        "**Exercise 8**\n",
        "\n",
        "Explain what happens to the value you popped.\n",
        "\n",
        "Experiment with calling `pop` twice."
      ]
    },
    {
      "cell_type": "code",
      "metadata": {
        "hide-output": false,
        "id": "A_ii5Ky-TozB",
        "colab_type": "code",
        "colab": {}
      },
      "source": [
        "# your code here"
      ],
      "execution_count": 0,
      "outputs": []
    },
    {
      "cell_type": "markdown",
      "metadata": {
        "id": "1UqCXGn4TozH",
        "colab_type": "text"
      },
      "source": [
        "([*back to text*](#exercise-7))\n",
        "\n",
        "**Exercise 9**\n",
        "\n",
        "Try creating a set with repeated elements (e.g. `{1, 2, 1, 2, 1, 2}`).\n",
        "\n",
        "What happens?\n",
        "\n",
        "Why?"
      ]
    },
    {
      "cell_type": "code",
      "metadata": {
        "hide-output": false,
        "id": "liSKPrE5TozI",
        "colab_type": "code",
        "colab": {}
      },
      "source": [
        "# your code here"
      ],
      "execution_count": 0,
      "outputs": []
    },
    {
      "cell_type": "markdown",
      "metadata": {
        "id": "-74AlUe1TozM",
        "colab_type": "text"
      },
      "source": [
        "([*back to text*](#exercise-8))\n",
        "\n",
        "**Exercise 10**\n",
        "\n",
        "Test out two of the operations described above using the original set we\n",
        "created, `s`, and the set created below `s2`."
      ]
    },
    {
      "cell_type": "code",
      "metadata": {
        "hide-output": false,
        "id": "WLfi_BJBTozN",
        "colab_type": "code",
        "colab": {}
      },
      "source": [
        "s2 = {\"hello\", \"world\"}"
      ],
      "execution_count": 0,
      "outputs": []
    },
    {
      "cell_type": "code",
      "metadata": {
        "hide-output": false,
        "id": "DxG0s5wITozR",
        "colab_type": "code",
        "colab": {}
      },
      "source": [
        "# Operation 1"
      ],
      "execution_count": 0,
      "outputs": []
    },
    {
      "cell_type": "code",
      "metadata": {
        "hide-output": false,
        "id": "8aPPTdo0TozY",
        "colab_type": "code",
        "colab": {}
      },
      "source": [
        "# Operation 2"
      ],
      "execution_count": 0,
      "outputs": []
    },
    {
      "cell_type": "markdown",
      "metadata": {
        "id": "ZrXbLev3Tozf",
        "colab_type": "text"
      },
      "source": [
        "([*back to text*](#exercise-9))"
      ]
    }
  ]
}