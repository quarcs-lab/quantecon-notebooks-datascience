{
  "nbformat": 4,
  "nbformat_minor": 0,
  "metadata": {
    "date": 1579028398.8546052,
    "filename": "basics.rst",
    "kernelspec": {
      "display_name": "Python",
      "language": "python3",
      "name": "python3"
    },
    "title": "Basics",
    "colab": {
      "name": "RUN201-basics.ipynb",
      "provenance": [],
      "toc_visible": true,
      "include_colab_link": true
    }
  },
  "cells": [
    {
      "cell_type": "markdown",
      "metadata": {
        "id": "view-in-github",
        "colab_type": "text"
      },
      "source": [
        "<a href=\"https://colab.research.google.com/github/quarcs-lab/quantecon-notebooks-datascience/blob/master/RUN201_basics.ipynb\" target=\"_parent\"><img src=\"https://colab.research.google.com/assets/colab-badge.svg\" alt=\"Open In Colab\"/></a>"
      ]
    },
    {
      "cell_type": "markdown",
      "metadata": {
        "id": "7EE6YL3nGhYx",
        "colab_type": "text"
      },
      "source": [
        "# Basics\n",
        "\n",
        "**Prerequisites**\n",
        "\n",
        "- [Getting Started](../introduction/getting_started.ipynb)  \n",
        "\n",
        "\n",
        "**Outcomes**\n",
        "\n",
        "- Programming concepts  \n",
        "  \n",
        "  - Understand variable assignment  \n",
        "  - Know what a function is and how to figure out what it does  \n",
        "  - Be able to use tab completion  \n",
        "  \n",
        "- Numbers in Python  \n",
        "  \n",
        "  - Understand how Python represents numbers  \n",
        "  - Know the distinction between `int` and `float`  \n",
        "  - Be familiar with various binary operators for numbers  \n",
        "  - Introduction to the `math` library  \n",
        "  \n",
        "- Text (strings) in Python  \n",
        "  \n",
        "  - Understand what a string is and when it is useful  \n",
        "  - Learn some of the methods associated with strings  \n",
        "  - Combining strings and output  \n",
        "  \n",
        "- True and False (booleans) in Python  \n",
        "  \n",
        "  - Understand what a boolean is  \n",
        "  - Become familiar with all binary operators that return booleans  "
      ]
    },
    {
      "cell_type": "markdown",
      "metadata": {
        "id": "-PNaScIcGhY3",
        "colab_type": "text"
      },
      "source": [
        "## Outline\n",
        "\n",
        "- [Basics](#Basics)  \n",
        "  - [First Steps](#First-Steps)  \n",
        "  - [Functions](#Functions)  \n",
        "  - [Objects and Types](#Objects-and-Types)  \n",
        "  - [Modules](#Modules)  \n",
        "  - [Good Code Habits](#Good-Code-Habits)  \n",
        "  - [Numbers](#Numbers)  \n",
        "  - [Strings](#Strings)  \n",
        "  - [Booleans](#Booleans)  \n",
        "  - [Exercises](#Exercises)  "
      ]
    },
    {
      "cell_type": "markdown",
      "metadata": {
        "id": "i34B4CdkGhY7",
        "colab_type": "text"
      },
      "source": [
        "## First Steps\n",
        "\n",
        "We are ready to begin writing code!\n",
        "\n",
        "In this section, we will teach you some basic concepts of programming\n",
        "and where to search for help."
      ]
    },
    {
      "cell_type": "markdown",
      "metadata": {
        "id": "GD6MaSYjGhY9",
        "colab_type": "text"
      },
      "source": [
        "### Variable Assignment\n",
        "\n",
        "The first thing we will learn is the idea of *variable assignment*.\n",
        "\n",
        "Variable assignment associates a value to a variable.\n",
        "\n",
        "Below, we assign the value “Hello World” to the variable `x`"
      ]
    },
    {
      "cell_type": "code",
      "metadata": {
        "hide-output": false,
        "id": "ZXm-v8uqGhY_",
        "colab_type": "code",
        "colab": {}
      },
      "source": [
        "x = \"Hello World\""
      ],
      "execution_count": 0,
      "outputs": []
    },
    {
      "cell_type": "markdown",
      "metadata": {
        "id": "tSm6A4JiGhZH",
        "colab_type": "text"
      },
      "source": [
        "Once we have assigned a value to a variable, Python will remember this\n",
        "variable as long as the *current* session of Python is still running.\n",
        "\n",
        "Notice how writing `x` into the prompt below outputs the value\n",
        "“Hello World”."
      ]
    },
    {
      "cell_type": "code",
      "metadata": {
        "hide-output": false,
        "id": "6rzbdh9-GhZJ",
        "colab_type": "code",
        "colab": {
          "base_uri": "https://localhost:8080/",
          "height": 34
        },
        "outputId": "52385591-8449-4e65-945d-963e0b444b09"
      },
      "source": [
        "x"
      ],
      "execution_count": 2,
      "outputs": [
        {
          "output_type": "execute_result",
          "data": {
            "text/plain": [
              "'Hello World'"
            ]
          },
          "metadata": {
            "tags": []
          },
          "execution_count": 2
        }
      ]
    },
    {
      "cell_type": "markdown",
      "metadata": {
        "id": "7fT6mr8mGhZT",
        "colab_type": "text"
      },
      "source": [
        "However, Python returns an error if we ask it about variables that have not yet\n",
        "been created."
      ]
    },
    {
      "cell_type": "code",
      "metadata": {
        "hide-output": false,
        "id": "se7yCa_3GhZV",
        "colab_type": "code",
        "colab": {
          "base_uri": "https://localhost:8080/",
          "height": 164
        },
        "outputId": "4e518103-15ed-42ad-c2c1-604be5c63483"
      },
      "source": [
        "# uncomment (delete the # and the space) the line below and run\n",
        "# y"
      ],
      "execution_count": 3,
      "outputs": [
        {
          "output_type": "error",
          "ename": "NameError",
          "evalue": "ignored",
          "traceback": [
            "\u001b[0;31m---------------------------------------------------------------------------\u001b[0m",
            "\u001b[0;31mNameError\u001b[0m                                 Traceback (most recent call last)",
            "\u001b[0;32m<ipython-input-3-9063a9f0e032>\u001b[0m in \u001b[0;36m<module>\u001b[0;34m()\u001b[0m\n\u001b[0;32m----> 1\u001b[0;31m \u001b[0my\u001b[0m\u001b[0;34m\u001b[0m\u001b[0;34m\u001b[0m\u001b[0m\n\u001b[0m",
            "\u001b[0;31mNameError\u001b[0m: name 'y' is not defined"
          ]
        }
      ]
    },
    {
      "cell_type": "markdown",
      "metadata": {
        "id": "z8dwqLQJGhZc",
        "colab_type": "text"
      },
      "source": [
        "It is also useful to understand the order in which operations happen.\n",
        "\n",
        "First, the right side of the equal sign is computed.\n",
        "\n",
        "Then, that computed value is stored as the variable to the left of the\n",
        "equal sign.\n",
        "\n",
        "\n",
        "<a id='exercise-0'></a>\n",
        "> See exercise 1 in the [*exercise list*](#exerciselist-0)\n",
        "\n",
        "\n",
        "Keep in mind that the variable binds a name to something stored in memory.\n",
        "\n",
        "The name can even be bound to a value of a completely different type."
      ]
    },
    {
      "cell_type": "code",
      "metadata": {
        "hide-output": false,
        "id": "elPLLnf7GhZe",
        "colab_type": "code",
        "colab": {
          "base_uri": "https://localhost:8080/",
          "height": 51
        },
        "outputId": "4e2cbef9-5687-4e35-8adc-c457d7559a1c"
      },
      "source": [
        "x = 2\n",
        "print(x)\n",
        "x = \"something else\"\n",
        "print(x)"
      ],
      "execution_count": 4,
      "outputs": [
        {
          "output_type": "stream",
          "text": [
            "2\n",
            "something else\n"
          ],
          "name": "stdout"
        }
      ]
    },
    {
      "cell_type": "markdown",
      "metadata": {
        "id": "m_C9dtUKGhZl",
        "colab_type": "text"
      },
      "source": [
        "### Code Comments\n",
        "\n",
        "Comments are short notes that you leave for yourself and for others who read your\n",
        "code.\n",
        "\n",
        "They should be used to explain what the code does.\n",
        "\n",
        "A comment is made with the `#`. Python ignores everything in a line that follows a `#`.\n",
        "\n",
        "Let’s practice making some comments."
      ]
    },
    {
      "cell_type": "code",
      "metadata": {
        "hide-output": false,
        "id": "gXkji1ckGhZo",
        "colab_type": "code",
        "colab": {
          "base_uri": "https://localhost:8080/",
          "height": 34
        },
        "outputId": "12474cce-569c-49cb-9a9e-97fbe738928b"
      },
      "source": [
        "i = 1  # Assign the value 1 to variable i\n",
        "j = 2  # Assign the value 2 to variable j\n",
        "\n",
        "# We add i and j below this line\n",
        "i + j"
      ],
      "execution_count": 5,
      "outputs": [
        {
          "output_type": "execute_result",
          "data": {
            "text/plain": [
              "3"
            ]
          },
          "metadata": {
            "tags": []
          },
          "execution_count": 5
        }
      ]
    },
    {
      "cell_type": "markdown",
      "metadata": {
        "id": "TQql45kDGhZ_",
        "colab_type": "text"
      },
      "source": [
        "## Functions\n",
        "\n",
        "Functions are processes that take an input (or inputs) and produce an output.\n",
        "\n",
        "If we had a function called `f` that took two arguments `x` and\n",
        "`y`, we would write `f(x, y)` to use the function.\n",
        "\n",
        "For example, the function `print` simply prints whatever it is given.\n",
        "Recall the variable we created called `x`."
      ]
    },
    {
      "cell_type": "code",
      "metadata": {
        "hide-output": false,
        "id": "twYSmIPJGhaB",
        "colab_type": "code",
        "colab": {
          "base_uri": "https://localhost:8080/",
          "height": 34
        },
        "outputId": "226318c4-fd91-4460-c22a-587f255e53b6"
      },
      "source": [
        "print(x)"
      ],
      "execution_count": 6,
      "outputs": [
        {
          "output_type": "stream",
          "text": [
            "something else\n"
          ],
          "name": "stdout"
        }
      ]
    },
    {
      "cell_type": "markdown",
      "metadata": {
        "id": "T7EFK8A5GhaL",
        "colab_type": "text"
      },
      "source": [
        "### Getting Help\n",
        "\n",
        "We can figure out what a function does by asking for help.\n",
        "\n",
        "In Jupyter notebooks, this is done by placing a `?` after the function\n",
        "name (without using parenthesis) and evaluating the cell.\n",
        "\n",
        "For example, we can ask for help on the print function by writing\n",
        "`?print`.\n",
        "\n",
        "Depending on how you launched Jupyter, this will either launch\n",
        "\n",
        "- JupyterLab: display the help in text below the cell.  \n",
        "- Classic Jupyter Notebooks: display a new panel at the bottom of your\n",
        "  screen.  You can exit this panel by hitting the escape key or clicking the x at\n",
        "  the top right of the panel.  "
      ]
    },
    {
      "cell_type": "code",
      "metadata": {
        "hide-output": false,
        "id": "5xgcKlalGhaO",
        "colab_type": "code",
        "colab": {}
      },
      "source": [
        "?print # remove the comment and <Shift-Enter>"
      ],
      "execution_count": 0,
      "outputs": []
    },
    {
      "cell_type": "markdown",
      "metadata": {
        "id": "8Yyuf3cYGhaY",
        "colab_type": "text"
      },
      "source": [
        "\n",
        "<a id='exercise-1'></a>\n",
        "> See exercise 2 in the [*exercise list*](#exerciselist-0)\n",
        "\n",
        "\n",
        "JupyterLab also has a “Contextual Help” (previously called “Inspector”) window.  To use,\n",
        "\n",
        "- Go to the Commands and choose Contextual Help (or Inspector), or select `<Ctrl-I>` (`<Cmd-I>` for OSX users).  \n",
        "- Drag the new inspector pain to dock in the screen next to your code.  \n",
        "- Then, type `print` or any other function\n",
        "into a cell and see the help.  "
      ]
    },
    {
      "cell_type": "code",
      "metadata": {
        "hide-output": false,
        "id": "SZ_fs32FGhab",
        "colab_type": "code",
        "colab": {}
      },
      "source": [
        "# len? # remove the comment and <Shift-Enter>"
      ],
      "execution_count": 0,
      "outputs": []
    },
    {
      "cell_type": "markdown",
      "metadata": {
        "id": "YgeOgch8Ghah",
        "colab_type": "text"
      },
      "source": [
        "\n",
        "\n",
        "\n",
        "We will learn much more about functions, including how to write our own, in a\n",
        "future lecture."
      ]
    },
    {
      "cell_type": "markdown",
      "metadata": {
        "id": "_uv2LAPzGhaj",
        "colab_type": "text"
      },
      "source": [
        "## Objects and Types\n",
        "\n",
        "Everything in Python is an *object*.\n",
        "\n",
        "Objects are “things” that contain 1) data and 2) functions that can operate on\n",
        "the data.\n",
        "\n",
        "Sometimes we refer to the **functions inside an object as *methods***.\n",
        "\n",
        "We can investigate what data is inside an object and which methods\n",
        "it supports by typing `.` after that particular variable, then\n",
        "hitting `TAB`.\n",
        "\n",
        "It should then list data and method names to the right of the\n",
        "variable name like this:\n",
        "\n",
        "<img src=\"https://datascience.quantecon.org/assets/_static/python_fundamentals/introspection.png\" alt=\"introspection.png\" style=\"\">\n",
        "\n",
        "  \n",
        "You can scroll through this list by using the up and down arrows.\n",
        "\n",
        "We often refer to this as “tab completion” or “introspection”.\n",
        "\n",
        "Let’s do this together below. Keep going down until you find the method\n",
        "`split`."
      ]
    },
    {
      "cell_type": "code",
      "metadata": {
        "hide-output": false,
        "id": "JAWJuhPiGhak",
        "colab_type": "code",
        "colab": {}
      },
      "source": [
        "# Type a period after `x` and then press TAB.\n",
        "x"
      ],
      "execution_count": 0,
      "outputs": []
    },
    {
      "cell_type": "markdown",
      "metadata": {
        "id": "d7cTpKMLGhap",
        "colab_type": "text"
      },
      "source": [
        "Once you have found the method `split`, you can use the method by adding\n",
        "parenthesis after it.\n",
        "\n",
        "Let’s call the `split` method, which doesn’t have any other required\n",
        "parameters. (Quiz: how would we check that?)"
      ]
    },
    {
      "cell_type": "code",
      "metadata": {
        "hide-output": false,
        "id": "RpsZ7dtIGhaq",
        "colab_type": "code",
        "colab": {
          "base_uri": "https://localhost:8080/",
          "height": 34
        },
        "outputId": "f7d08029-bb96-48fe-9139-523c034ad967"
      },
      "source": [
        "x.split()"
      ],
      "execution_count": 9,
      "outputs": [
        {
          "output_type": "execute_result",
          "data": {
            "text/plain": [
              "['something', 'else']"
            ]
          },
          "metadata": {
            "tags": []
          },
          "execution_count": 9
        }
      ]
    },
    {
      "cell_type": "markdown",
      "metadata": {
        "id": "FTZzaHeIGhaw",
        "colab_type": "text"
      },
      "source": [
        "We often want to identify what kind of object some value is–\n",
        "called its “type”.\n",
        "\n",
        "A “type” is an abstraction which defines a set of behavior for any\n",
        "“instance” of that type i.e. `2.0` and `3.0` are instances\n",
        "of `float`, where `float` has a set of particular common behaviors.\n",
        "\n",
        "In particular, the type determines:\n",
        "\n",
        "- the available data for any “instance” of the type (where each\n",
        "  instance may have different values of the data).  \n",
        "- the methods that can be applied on the object and its data.  \n",
        "\n",
        "\n",
        "We can figure this out by using the `type` function.\n",
        "\n",
        "The `type` function takes a single argument and outputs the type of\n",
        "that argument."
      ]
    },
    {
      "cell_type": "code",
      "metadata": {
        "hide-output": false,
        "id": "UPpBBr8_Ghaz",
        "colab_type": "code",
        "colab": {
          "base_uri": "https://localhost:8080/",
          "height": 34
        },
        "outputId": "9dc09534-bf54-4799-e548-06f2bf1759d9"
      },
      "source": [
        "type(3)"
      ],
      "execution_count": 10,
      "outputs": [
        {
          "output_type": "execute_result",
          "data": {
            "text/plain": [
              "int"
            ]
          },
          "metadata": {
            "tags": []
          },
          "execution_count": 10
        }
      ]
    },
    {
      "cell_type": "code",
      "metadata": {
        "hide-output": false,
        "id": "Q8YgDkGCGha4",
        "colab_type": "code",
        "colab": {
          "base_uri": "https://localhost:8080/",
          "height": 34
        },
        "outputId": "e6ca61e8-2cb8-4029-d3c1-dac057b84e1a"
      },
      "source": [
        "type(\"Hello World\")"
      ],
      "execution_count": 11,
      "outputs": [
        {
          "output_type": "execute_result",
          "data": {
            "text/plain": [
              "str"
            ]
          },
          "metadata": {
            "tags": []
          },
          "execution_count": 11
        }
      ]
    },
    {
      "cell_type": "code",
      "metadata": {
        "hide-output": false,
        "id": "AJvt38FhGha-",
        "colab_type": "code",
        "colab": {
          "base_uri": "https://localhost:8080/",
          "height": 34
        },
        "outputId": "1af649d7-6bae-4fa6-aecb-b1a31c8359ee"
      },
      "source": [
        "type([1, 2, 3])"
      ],
      "execution_count": 12,
      "outputs": [
        {
          "output_type": "execute_result",
          "data": {
            "text/plain": [
              "list"
            ]
          },
          "metadata": {
            "tags": []
          },
          "execution_count": 12
        }
      ]
    },
    {
      "cell_type": "markdown",
      "metadata": {
        "id": "kl3Pg9_sGhbD",
        "colab_type": "text"
      },
      "source": [
        "We will learn more about each of these types (and others!) and how to use them\n",
        "soon, so stay tuned!\n",
        "\n",
        "\n",
        "<a id='modules'></a>"
      ]
    },
    {
      "cell_type": "markdown",
      "metadata": {
        "id": "y3RNqtivGhbI",
        "colab_type": "text"
      },
      "source": [
        "## Modules\n",
        "\n",
        "Python takes a modular approach to tools.\n",
        "\n",
        "By this we mean that sets of related tools are bundled together into *packages*.\n",
        "(You may also hear the term modules to describe the same thing.)\n",
        "\n",
        "For example:\n",
        "\n",
        "- `pandas` is a package that implements the tools necessary to do\n",
        "  scalable data analysis.  \n",
        "- `matplotlib` is a package that implements visualization tools.  \n",
        "- `requests` and `urllib` are packages that allow Python to\n",
        "  interface with the internet.  \n",
        "\n",
        "\n",
        "As we move further into the class, being able to\n",
        "access these packages will become very important.\n",
        "\n",
        "We can bring a package’s functionality into our current Python session\n",
        "by writing"
      ]
    },
    {
      "cell_type": "markdown",
      "metadata": {
        "hide-output": false,
        "id": "2JNeqw1-GhbK",
        "colab_type": "text"
      },
      "source": [
        "```python\n",
        "import package\n",
        "```\n"
      ]
    },
    {
      "cell_type": "markdown",
      "metadata": {
        "id": "oEjy3ZArGhbL",
        "colab_type": "text"
      },
      "source": [
        "Once we have done this, any function or object from that package can\n",
        "be accessed by using `package.name`.\n",
        "\n",
        "Here’s an example."
      ]
    },
    {
      "cell_type": "code",
      "metadata": {
        "hide-output": false,
        "id": "5IAaq6uoGhbN",
        "colab_type": "code",
        "colab": {
          "base_uri": "https://localhost:8080/",
          "height": 34
        },
        "outputId": "c304dc57-5edb-4bec-a360-25a19e8971e6"
      },
      "source": [
        "import sys   # for dealing with your computer's system\n",
        "sys.version  # information about the Python version in use"
      ],
      "execution_count": 13,
      "outputs": [
        {
          "output_type": "execute_result",
          "data": {
            "text/plain": [
              "'3.6.9 (default, Nov  7 2019, 10:44:02) \\n[GCC 8.3.0]'"
            ]
          },
          "metadata": {
            "tags": []
          },
          "execution_count": 13
        }
      ]
    },
    {
      "cell_type": "markdown",
      "metadata": {
        "id": "J89qjLVXGhbW",
        "colab_type": "text"
      },
      "source": [
        "\n",
        "<a id='exercise-2'></a>\n",
        "> See exercise 3 in the [*exercise list*](#exerciselist-0)"
      ]
    },
    {
      "cell_type": "markdown",
      "metadata": {
        "id": "Gj_ivXx1GhbZ",
        "colab_type": "text"
      },
      "source": [
        "### Module Aliases\n",
        "\n",
        "Some packages have long names (see `matplotlib`, for example) which\n",
        "makes accessing the package functionality somewhat inconvenient.\n",
        "\n",
        "To ease this burden, Python allows us to give aliases or “nicknames” to packages.\n",
        "\n",
        "For example we can write:"
      ]
    },
    {
      "cell_type": "markdown",
      "metadata": {
        "hide-output": false,
        "id": "QTMtoDaqGhbb",
        "colab_type": "text"
      },
      "source": [
        "```python\n",
        "import package as p\n",
        "```\n"
      ]
    },
    {
      "cell_type": "markdown",
      "metadata": {
        "id": "AV-k_RgwGhbc",
        "colab_type": "text"
      },
      "source": [
        "This statement allows us to access the packages functionality as\n",
        "`p.function_name` rather than `package.function_name`.\n",
        "\n",
        "Some common aliases for packages are\n",
        "\n",
        "- `import pandas as pd`  \n",
        "- `import numpy as np`  \n",
        "- `import matplotlib as mpl`  \n",
        "- `import datetime as dt`  \n",
        "\n",
        "\n",
        "While you *can* choose any name for an alias, we suggest that you stick\n",
        "to the common ones.\n",
        "\n",
        "You will learn what these common ones are over time.\n",
        "\n",
        "\n",
        "<a id='exercise-3'></a>\n",
        "> See exercise 4 in the [*exercise list*](#exerciselist-0)"
      ]
    },
    {
      "cell_type": "markdown",
      "metadata": {
        "id": "Q0S4fhKgGhbe",
        "colab_type": "text"
      },
      "source": [
        "## Good Code Habits\n",
        "\n",
        "A common saying in the software engineering world is:\n",
        "\n",
        "> Always code as if the guy who ends up maintaining your code will be\n",
        "a violent psychopath who knows where you live. Code for readability.\n",
        "\n",
        "\n",
        "This might be a dramatic take, but the most important feature of your code\n",
        "after correctness is readability.\n",
        "\n",
        "We encourage you to do **everything** in your power to make your code as readable as possible.\n",
        "\n",
        "Here are some suggestions for how to do so:\n",
        "\n",
        "- Comment frequently. Leaving short notes not only will help others who\n",
        "  use your code, but will also help you interpret your code\n",
        "  after some time has passed.  \n",
        "- **Anytime** you use a comma, place a space immediately afterwards.  \n",
        "- Whitespace is your friend. Don’t write line after line of code – use\n",
        "  blank lines to break it up.  \n",
        "- Don’t let your lines run too long. Some people reading your code will\n",
        "  be on a laptop, so you want to ensure that they don’t need to scroll horizontally\n",
        "  and right to read your code. We recommend no more than 80 characters per line.  "
      ]
    },
    {
      "cell_type": "markdown",
      "metadata": {
        "id": "zixHEcdKGhbf",
        "colab_type": "text"
      },
      "source": [
        "## Numbers\n",
        "\n",
        "Python has two types of numbers.\n",
        "\n",
        "1. Integer (`int`): These can only take the values of the integers\n",
        "  i.e. $ \\{\\dots, -2, -1, 0, 1, 2, \\dots\\} $  \n",
        "1. Floating Point Number (`float`): Think of these as any real number\n",
        "  such as $ 1.0 $, $ 3.1415 $, or $ -100.022358923223 $…  \n",
        "\n",
        "\n",
        "The easiest way to differentiate these types of numbers is to find a decimal place\n",
        "after the number.\n",
        "\n",
        "A float will have a decimal place, but an integer will not.\n",
        "\n",
        "Below, we assign integers to the variables `xi` and `zi` and assign\n",
        "floating point numbers to the variables `xf` and `zf`."
      ]
    },
    {
      "cell_type": "code",
      "metadata": {
        "hide-output": false,
        "id": "64UUUwRAGhbi",
        "colab_type": "code",
        "colab": {}
      },
      "source": [
        "xi = 1\n",
        "xf = 1.0\n",
        "zi = 123\n",
        "zf = 1230.5  # Notice -- There are no commas!\n",
        "zf2 = 1_230.5  # If needed, we use `_` to separate numbers for readability"
      ],
      "execution_count": 0,
      "outputs": []
    },
    {
      "cell_type": "code",
      "metadata": {
        "id": "7c9bwccPNx_D",
        "colab_type": "code",
        "colab": {
          "base_uri": "https://localhost:8080/",
          "height": 34
        },
        "outputId": "d3b07400-1945-4529-fed6-96348b301301"
      },
      "source": [
        "zf2"
      ],
      "execution_count": 16,
      "outputs": [
        {
          "output_type": "execute_result",
          "data": {
            "text/plain": [
              "1230.5"
            ]
          },
          "metadata": {
            "tags": []
          },
          "execution_count": 16
        }
      ]
    },
    {
      "cell_type": "markdown",
      "metadata": {
        "id": "61S2smMAGhbn",
        "colab_type": "text"
      },
      "source": [
        "\n",
        "<a id='exercise-4'></a>\n",
        "> See exercise 5 in the [*exercise list*](#exerciselist-0)"
      ]
    },
    {
      "cell_type": "markdown",
      "metadata": {
        "id": "Q-bk8mj2Ghbo",
        "colab_type": "text"
      },
      "source": [
        "### Python as a Calculator\n",
        "\n",
        "You can use Python to perform mathematical calculations."
      ]
    },
    {
      "cell_type": "code",
      "metadata": {
        "hide-output": false,
        "id": "ut-WmXjiGhbp",
        "colab_type": "code",
        "colab": {
          "base_uri": "https://localhost:8080/",
          "height": 119
        },
        "outputId": "2bcf38ed-66b5-4463-8354-a05e1ae3e6e3"
      },
      "source": [
        "a = 4\n",
        "b = 2\n",
        "\n",
        "print(\"a + b is\", a + b)\n",
        "print(\"a - b is\", a - b)\n",
        "print(\"a * b is\", a * b)\n",
        "print(\"a / b is\", a / b)\n",
        "print(\"a ** b is\", a**b)\n",
        "print(\"a ^ b is\", a^b)"
      ],
      "execution_count": 17,
      "outputs": [
        {
          "output_type": "stream",
          "text": [
            "a + b is 6\n",
            "a - b is 2\n",
            "a * b is 8\n",
            "a / b is 2.0\n",
            "a ** b is 16\n",
            "a ^ b is 6\n"
          ],
          "name": "stdout"
        }
      ]
    },
    {
      "cell_type": "markdown",
      "metadata": {
        "id": "aHSTVOu0Ghbu",
        "colab_type": "text"
      },
      "source": [
        "You likely could have guessed all except the last two.\n",
        "\n",
        "**Warning**: Python uses `**`, not `^`, for exponentiation (raising a number\n",
        "to a power)!\n",
        "\n",
        "Notice also that above `+`, `-` and `**` all returned an integer\n",
        "type, but `/` converted the result to a float.\n",
        "\n",
        "When possible, operations between integers return an integer type.\n",
        "\n",
        "All operations involving a float will result in a float."
      ]
    },
    {
      "cell_type": "code",
      "metadata": {
        "hide-output": false,
        "id": "66FK_1UXGhbv",
        "colab_type": "code",
        "colab": {
          "base_uri": "https://localhost:8080/",
          "height": 102
        },
        "outputId": "8be37e66-a554-4290-d14a-83dc43174404"
      },
      "source": [
        "a = 4\n",
        "b = 2.0\n",
        "\n",
        "print(\"a + b is\", a + b)\n",
        "print(\"a - b is\", a - b)\n",
        "print(\"a * b is\", a * b)\n",
        "print(\"a / b is\", a / b)\n",
        "print(\"a ** b is\", a**b)"
      ],
      "execution_count": 18,
      "outputs": [
        {
          "output_type": "stream",
          "text": [
            "a + b is 6.0\n",
            "a - b is 2.0\n",
            "a * b is 8.0\n",
            "a / b is 2.0\n",
            "a ** b is 16.0\n"
          ],
          "name": "stdout"
        }
      ]
    },
    {
      "cell_type": "markdown",
      "metadata": {
        "id": "WFSCbcjPGhb0",
        "colab_type": "text"
      },
      "source": [
        "We can also chain together operations.\n",
        "\n",
        "When doing this, Python follows the standard [order of operations](https://en.wikipedia.org/wiki/Order_of_operations) — parenthesis, exponents,\n",
        "multiplication and division, followed by addition and subtraction.\n",
        "\n",
        "For example,"
      ]
    },
    {
      "cell_type": "code",
      "metadata": {
        "hide-output": false,
        "id": "OdXuHSOwGhb1",
        "colab_type": "code",
        "colab": {}
      },
      "source": [
        "x = 2.0\n",
        "y = 3.0\n",
        "z1 = x + y * x\n",
        "z2 = (x + y) * x"
      ],
      "execution_count": 0,
      "outputs": []
    },
    {
      "cell_type": "markdown",
      "metadata": {
        "id": "O9zXKhcbGhb6",
        "colab_type": "text"
      },
      "source": [
        "What do you think `z1` is?\n",
        "\n",
        "How about `z2`?\n",
        "\n",
        "\n",
        "<a id='exercise-5'></a>\n",
        "> See exercise 6 in the [*exercise list*](#exerciselist-0)"
      ]
    },
    {
      "cell_type": "code",
      "metadata": {
        "id": "_91LldjBOolW",
        "colab_type": "code",
        "colab": {
          "base_uri": "https://localhost:8080/",
          "height": 51
        },
        "outputId": "f2488738-af43-4651-edd8-e5a6ac25dae9"
      },
      "source": [
        "print(z1)\n",
        "print(z2)"
      ],
      "execution_count": 21,
      "outputs": [
        {
          "output_type": "stream",
          "text": [
            "8.0\n",
            "10.0\n"
          ],
          "name": "stdout"
        }
      ]
    },
    {
      "cell_type": "markdown",
      "metadata": {
        "id": "DgvXaDV_Ghb8",
        "colab_type": "text"
      },
      "source": [
        "### Other Math Functions\n",
        "\n",
        "We often want to use other math functions on our numbers. Let’s try to\n",
        "calculate sin(2.5)."
      ]
    },
    {
      "cell_type": "code",
      "metadata": {
        "hide-output": false,
        "id": "IzpYaPguGhb9",
        "colab_type": "code",
        "colab": {}
      },
      "source": [
        "sin(2.5)"
      ],
      "execution_count": 0,
      "outputs": []
    },
    {
      "cell_type": "markdown",
      "metadata": {
        "id": "CFyDMfU1GhcG",
        "colab_type": "text"
      },
      "source": [
        "As seen above, Python complains that `sin` isn’t defined.\n",
        "\n",
        "The problem here is that the `sin` function – as well as many other\n",
        "standard math functions – are contained in the `math` package.\n",
        "\n",
        "We must begin by importing the math package."
      ]
    },
    {
      "cell_type": "code",
      "metadata": {
        "hide-output": false,
        "id": "LpnAm6tMGhcI",
        "colab_type": "code",
        "colab": {}
      },
      "source": [
        "import math"
      ],
      "execution_count": 0,
      "outputs": []
    },
    {
      "cell_type": "markdown",
      "metadata": {
        "id": "uVsiOqKRGhcO",
        "colab_type": "text"
      },
      "source": [
        "Now, we can use `math.[TAB]` to see what functions are available to us."
      ]
    },
    {
      "cell_type": "code",
      "metadata": {
        "hide-output": false,
        "id": "KY_Kq5syGhcR",
        "colab_type": "code",
        "colab": {}
      },
      "source": [
        "# uncomment, add a period (`.`) and pres TAB\n",
        "math."
      ],
      "execution_count": 0,
      "outputs": []
    },
    {
      "cell_type": "code",
      "metadata": {
        "hide-output": false,
        "id": "cGCYeVavGhcZ",
        "colab_type": "code",
        "colab": {
          "base_uri": "https://localhost:8080/",
          "height": 34
        },
        "outputId": "e5921c89-c278-4d70-e2bb-ece9c6cfe2e0"
      },
      "source": [
        "# found math.sin!\n",
        "math.sin(2.5)"
      ],
      "execution_count": 24,
      "outputs": [
        {
          "output_type": "execute_result",
          "data": {
            "text/plain": [
              "0.5984721441039565"
            ]
          },
          "metadata": {
            "tags": []
          },
          "execution_count": 24
        }
      ]
    },
    {
      "cell_type": "markdown",
      "metadata": {
        "id": "tAsIbUZ4Ghcf",
        "colab_type": "text"
      },
      "source": [
        "\n",
        "<a id='exercise-6'></a>\n",
        "> See exercise 7 in the [*exercise list*](#exerciselist-0)"
      ]
    },
    {
      "cell_type": "markdown",
      "metadata": {
        "id": "P2VnUDyeGhch",
        "colab_type": "text"
      },
      "source": [
        "#### Floor/Modulus Division Operators\n",
        "\n",
        "You are less likely to run into the following operators, but understanding\n",
        "that they exist is useful.\n",
        "\n",
        "For two numbers assigned to the variables `x` and `y`,\n",
        "\n",
        "- Floor division: `x // y`  \n",
        "- Modulus division: `x % y`  \n",
        "\n",
        "\n",
        "Remember when you first learned how to do division and you were asked to talk about the quotient\n",
        "and the remainder?\n",
        "\n",
        "That’s what these operators correspond to…\n",
        "\n",
        "Floor division returns the number of times the divisor goes into the dividend (the quotient)\n",
        "and modulus division returns the remainder.\n",
        "\n",
        "An example would be 37 divided by 7:\n",
        "\n",
        "- Floor division would return 5 (7 * 5 = 35)  \n",
        "- Modulus division would return 2 (2 + 35 = 37)  \n",
        "\n",
        "\n",
        "Try it!"
      ]
    },
    {
      "cell_type": "code",
      "metadata": {
        "hide-output": false,
        "id": "Xyxnhv1_Ghci",
        "colab_type": "code",
        "colab": {
          "base_uri": "https://localhost:8080/",
          "height": 34
        },
        "outputId": "b7e5818f-f99e-4eda-f1b9-36b40b488b21"
      },
      "source": [
        "37 // 7"
      ],
      "execution_count": 25,
      "outputs": [
        {
          "output_type": "execute_result",
          "data": {
            "text/plain": [
              "5"
            ]
          },
          "metadata": {
            "tags": []
          },
          "execution_count": 25
        }
      ]
    },
    {
      "cell_type": "code",
      "metadata": {
        "hide-output": false,
        "id": "STDIy5irGhco",
        "colab_type": "code",
        "colab": {
          "base_uri": "https://localhost:8080/",
          "height": 34
        },
        "outputId": "81005432-878f-4b0b-f98f-7aea21f2aba2"
      },
      "source": [
        "37 % 7"
      ],
      "execution_count": 26,
      "outputs": [
        {
          "output_type": "execute_result",
          "data": {
            "text/plain": [
              "2"
            ]
          },
          "metadata": {
            "tags": []
          },
          "execution_count": 26
        }
      ]
    },
    {
      "cell_type": "markdown",
      "metadata": {
        "id": "b8SjQDzxGhcu",
        "colab_type": "text"
      },
      "source": [
        "## Strings\n",
        "\n",
        "Textual information is stored in a data type called a string.\n",
        "\n",
        "To denote that you would like something to be stored as a string, you place it\n",
        "inside of quotation marks.\n",
        "\n",
        "For example,"
      ]
    },
    {
      "cell_type": "markdown",
      "metadata": {
        "hide-output": false,
        "id": "-iJI6Pv2Ghcw",
        "colab_type": "text"
      },
      "source": [
        "```python\n",
        "\"this is a string\"  # Notice the quotation marks\n",
        "'this is a string'  # Notice the quotation marks\n",
        "this is not a string  # No quotation marks\n",
        "```\n"
      ]
    },
    {
      "cell_type": "markdown",
      "metadata": {
        "id": "YM0e7HxcGhcx",
        "colab_type": "text"
      },
      "source": [
        "You can use either `\"` or `'` to create a string. Just make sure\n",
        "that you start and end the string with the same one!\n",
        "\n",
        "Notice that if we ask Python to tell us the type of a string, it abbreviates\n",
        "its answer to `str`."
      ]
    },
    {
      "cell_type": "code",
      "metadata": {
        "hide-output": false,
        "id": "agE5L5keGhc1",
        "colab_type": "code",
        "colab": {
          "base_uri": "https://localhost:8080/",
          "height": 34
        },
        "outputId": "29190041-b86a-42b9-8a49-fcf6950e64ea"
      },
      "source": [
        "type(\"this is a string\")"
      ],
      "execution_count": 27,
      "outputs": [
        {
          "output_type": "execute_result",
          "data": {
            "text/plain": [
              "str"
            ]
          },
          "metadata": {
            "tags": []
          },
          "execution_count": 27
        }
      ]
    },
    {
      "cell_type": "markdown",
      "metadata": {
        "id": "N4Hi9KoOGhc9",
        "colab_type": "text"
      },
      "source": [
        "\n",
        "<a id='exercise-7'></a>\n",
        "> See exercise 8 in the [*exercise list*](#exerciselist-0)"
      ]
    },
    {
      "cell_type": "markdown",
      "metadata": {
        "id": "bHMhIx-mGhc_",
        "colab_type": "text"
      },
      "source": [
        "### String Operations\n",
        "\n",
        "Some of the arithmetic operators we saw in the numbers lecture also work\n",
        "on strings:\n",
        "\n",
        "- Put two strings together: `x + y`.  \n",
        "- Repeat the string `x` a total of `n` times: `n * x` (or `x * n`).  "
      ]
    },
    {
      "cell_type": "code",
      "metadata": {
        "hide-output": false,
        "id": "3z2zdze3GhdB",
        "colab_type": "code",
        "colab": {}
      },
      "source": [
        "x = \"Hello\"\n",
        "y = \"World\""
      ],
      "execution_count": 0,
      "outputs": []
    },
    {
      "cell_type": "code",
      "metadata": {
        "hide-output": false,
        "id": "BHkh9U1sGhdF",
        "colab_type": "code",
        "colab": {
          "base_uri": "https://localhost:8080/",
          "height": 34
        },
        "outputId": "895b29a1-0684-4dad-dfe7-9f342ce0aaed"
      },
      "source": [
        "x + y"
      ],
      "execution_count": 29,
      "outputs": [
        {
          "output_type": "execute_result",
          "data": {
            "text/plain": [
              "'HelloWorld'"
            ]
          },
          "metadata": {
            "tags": []
          },
          "execution_count": 29
        }
      ]
    },
    {
      "cell_type": "code",
      "metadata": {
        "hide-output": false,
        "id": "kaEmCXmRGhdJ",
        "colab_type": "code",
        "colab": {
          "base_uri": "https://localhost:8080/",
          "height": 34
        },
        "outputId": "4212f751-ce70-463c-e8dd-24cb8f8aa729"
      },
      "source": [
        "3 * x"
      ],
      "execution_count": 30,
      "outputs": [
        {
          "output_type": "execute_result",
          "data": {
            "text/plain": [
              "'HelloHelloHello'"
            ]
          },
          "metadata": {
            "tags": []
          },
          "execution_count": 30
        }
      ]
    },
    {
      "cell_type": "markdown",
      "metadata": {
        "id": "kTPAmMWlGhdP",
        "colab_type": "text"
      },
      "source": [
        "What happens if we try `*` with two strings, or `-` or `/`?\n",
        "\n",
        "The best way to find out is to try it!"
      ]
    },
    {
      "cell_type": "code",
      "metadata": {
        "hide-output": false,
        "id": "LwJXZLyfGhdR",
        "colab_type": "code",
        "colab": {
          "base_uri": "https://localhost:8080/",
          "height": 198
        },
        "outputId": "07e2bd8e-d90e-4f8d-9795-1ed48ae30dc7"
      },
      "source": [
        "a = \"1\"\n",
        "b = \"2\"\n",
        "a * b"
      ],
      "execution_count": 31,
      "outputs": [
        {
          "output_type": "error",
          "ename": "TypeError",
          "evalue": "ignored",
          "traceback": [
            "\u001b[0;31m---------------------------------------------------------------------------\u001b[0m",
            "\u001b[0;31mTypeError\u001b[0m                                 Traceback (most recent call last)",
            "\u001b[0;32m<ipython-input-31-81e08f80d3d1>\u001b[0m in \u001b[0;36m<module>\u001b[0;34m()\u001b[0m\n\u001b[1;32m      1\u001b[0m \u001b[0ma\u001b[0m \u001b[0;34m=\u001b[0m \u001b[0;34m\"1\"\u001b[0m\u001b[0;34m\u001b[0m\u001b[0;34m\u001b[0m\u001b[0m\n\u001b[1;32m      2\u001b[0m \u001b[0mb\u001b[0m \u001b[0;34m=\u001b[0m \u001b[0;34m\"2\"\u001b[0m\u001b[0;34m\u001b[0m\u001b[0;34m\u001b[0m\u001b[0m\n\u001b[0;32m----> 3\u001b[0;31m \u001b[0ma\u001b[0m \u001b[0;34m*\u001b[0m \u001b[0mb\u001b[0m\u001b[0;34m\u001b[0m\u001b[0;34m\u001b[0m\u001b[0m\n\u001b[0m",
            "\u001b[0;31mTypeError\u001b[0m: can't multiply sequence by non-int of type 'str'"
          ]
        }
      ]
    },
    {
      "cell_type": "code",
      "metadata": {
        "hide-output": false,
        "id": "KHQ1xGY7Ghdg",
        "colab_type": "code",
        "colab": {
          "base_uri": "https://localhost:8080/",
          "height": 164
        },
        "outputId": "82fe6b15-f16d-48dd-82a1-c2346346383d"
      },
      "source": [
        "a - b"
      ],
      "execution_count": 32,
      "outputs": [
        {
          "output_type": "error",
          "ename": "TypeError",
          "evalue": "ignored",
          "traceback": [
            "\u001b[0;31m---------------------------------------------------------------------------\u001b[0m",
            "\u001b[0;31mTypeError\u001b[0m                                 Traceback (most recent call last)",
            "\u001b[0;32m<ipython-input-32-09bd029d0285>\u001b[0m in \u001b[0;36m<module>\u001b[0;34m()\u001b[0m\n\u001b[0;32m----> 1\u001b[0;31m \u001b[0ma\u001b[0m \u001b[0;34m-\u001b[0m \u001b[0mb\u001b[0m\u001b[0;34m\u001b[0m\u001b[0;34m\u001b[0m\u001b[0m\n\u001b[0m",
            "\u001b[0;31mTypeError\u001b[0m: unsupported operand type(s) for -: 'str' and 'str'"
          ]
        }
      ]
    },
    {
      "cell_type": "markdown",
      "metadata": {
        "id": "qvv4kS4TGhdl",
        "colab_type": "text"
      },
      "source": [
        "\n",
        "<a id='exercise-8'></a>\n",
        "> See exercise 9 in the [*exercise list*](#exerciselist-0)"
      ]
    },
    {
      "cell_type": "markdown",
      "metadata": {
        "id": "CO3XgFScGhdm",
        "colab_type": "text"
      },
      "source": [
        "### String Methods\n",
        "\n",
        "We can use many *methods* to manipulate strings.\n",
        "\n",
        "We will not be able to cover all of them here, but let’s take a look at\n",
        "some of the most useful ones."
      ]
    },
    {
      "cell_type": "code",
      "metadata": {
        "hide-output": false,
        "id": "rDJSwj51Ghdo",
        "colab_type": "code",
        "colab": {
          "base_uri": "https://localhost:8080/",
          "height": 34
        },
        "outputId": "463ce624-36d4-4240-ef34-2c4471454be3"
      },
      "source": [
        "x"
      ],
      "execution_count": 33,
      "outputs": [
        {
          "output_type": "execute_result",
          "data": {
            "text/plain": [
              "'Hello'"
            ]
          },
          "metadata": {
            "tags": []
          },
          "execution_count": 33
        }
      ]
    },
    {
      "cell_type": "code",
      "metadata": {
        "hide-output": false,
        "id": "1iHtvIDiGhd0",
        "colab_type": "code",
        "colab": {
          "base_uri": "https://localhost:8080/",
          "height": 34
        },
        "outputId": "d64bbce8-0796-480d-f823-2ada4b07530e"
      },
      "source": [
        "x.lower()  # Makes all letters lower case"
      ],
      "execution_count": 34,
      "outputs": [
        {
          "output_type": "execute_result",
          "data": {
            "text/plain": [
              "'hello'"
            ]
          },
          "metadata": {
            "tags": []
          },
          "execution_count": 34
        }
      ]
    },
    {
      "cell_type": "code",
      "metadata": {
        "hide-output": false,
        "id": "1ZB9slMCGhd9",
        "colab_type": "code",
        "colab": {
          "base_uri": "https://localhost:8080/",
          "height": 34
        },
        "outputId": "30043518-0d1d-47cf-a808-fe9e46c2ffd0"
      },
      "source": [
        "x.upper()  # Makes all letters upper case"
      ],
      "execution_count": 35,
      "outputs": [
        {
          "output_type": "execute_result",
          "data": {
            "text/plain": [
              "'HELLO'"
            ]
          },
          "metadata": {
            "tags": []
          },
          "execution_count": 35
        }
      ]
    },
    {
      "cell_type": "code",
      "metadata": {
        "hide-output": false,
        "id": "OicMYhSNGheE",
        "colab_type": "code",
        "colab": {
          "base_uri": "https://localhost:8080/",
          "height": 34
        },
        "outputId": "28453d95-4ede-43dd-854f-553e46cf61cc"
      },
      "source": [
        "x.count(\"l\")  # Counts number of a particular string"
      ],
      "execution_count": 36,
      "outputs": [
        {
          "output_type": "execute_result",
          "data": {
            "text/plain": [
              "2"
            ]
          },
          "metadata": {
            "tags": []
          },
          "execution_count": 36
        }
      ]
    },
    {
      "cell_type": "code",
      "metadata": {
        "hide-output": false,
        "id": "8WqYEtciGheJ",
        "colab_type": "code",
        "colab": {
          "base_uri": "https://localhost:8080/",
          "height": 34
        },
        "outputId": "3a26b779-1b8c-422b-808c-81004e6091b9"
      },
      "source": [
        "x.count(\"ll\")"
      ],
      "execution_count": 37,
      "outputs": [
        {
          "output_type": "execute_result",
          "data": {
            "text/plain": [
              "1"
            ]
          },
          "metadata": {
            "tags": []
          },
          "execution_count": 37
        }
      ]
    },
    {
      "cell_type": "markdown",
      "metadata": {
        "id": "3V3nkcNTGheQ",
        "colab_type": "text"
      },
      "source": [
        "\n",
        "<a id='exercise-9'></a>\n",
        "> See exercise 10 in the [*exercise list*](#exerciselist-0)\n",
        "\n",
        "\n",
        "\n",
        "<a id='exercise-10'></a>\n",
        "> See exercise 11 in the [*exercise list*](#exerciselist-0)"
      ]
    },
    {
      "cell_type": "markdown",
      "metadata": {
        "id": "Wwr3_ocRGheW",
        "colab_type": "text"
      },
      "source": [
        "### String Formatting\n",
        "\n",
        "Sometimes we’d like to reuse some portion of a string repeatedly, but\n",
        "still make some relatively small changes at each usage.\n",
        "\n",
        "We can do this with *string formatting*, which done by using `{}` as a\n",
        "*placeholder* where we’d like to change the string, with a variable name\n",
        "or expression.\n",
        "\n",
        "Let’s look at an example."
      ]
    },
    {
      "cell_type": "code",
      "metadata": {
        "hide-output": false,
        "id": "jFpzv354GheZ",
        "colab_type": "code",
        "colab": {
          "base_uri": "https://localhost:8080/",
          "height": 34
        },
        "outputId": "bd6c5692-3403-4a97-efac-e714def77907"
      },
      "source": [
        "country = \"Vietnam\"\n",
        "GDP = 223.9\n",
        "year = 2017\n",
        "my_string = f\"{country} had ${GDP} billion GDP in {year}\"\n",
        "print(my_string)"
      ],
      "execution_count": 38,
      "outputs": [
        {
          "output_type": "stream",
          "text": [
            "Vietnam had $223.9 billion GDP in 2017\n"
          ],
          "name": "stdout"
        }
      ]
    },
    {
      "cell_type": "markdown",
      "metadata": {
        "id": "gCCXktEBGher",
        "colab_type": "text"
      },
      "source": [
        "Rather than just substituting a variable name, you can use a calculation\n",
        "or expression."
      ]
    },
    {
      "cell_type": "code",
      "metadata": {
        "hide-output": false,
        "id": "By5FvADGGhet",
        "colab_type": "code",
        "colab": {
          "base_uri": "https://localhost:8080/",
          "height": 34
        },
        "outputId": "33e4ce04-6ded-42aa-ed99-3c20fd39685c"
      },
      "source": [
        "print(f\"{5}**2 = {5**2}\")"
      ],
      "execution_count": 39,
      "outputs": [
        {
          "output_type": "stream",
          "text": [
            "5**2 = 25\n"
          ],
          "name": "stdout"
        }
      ]
    },
    {
      "cell_type": "markdown",
      "metadata": {
        "id": "Zsa9nMjhGhe0",
        "colab_type": "text"
      },
      "source": [
        "Or, using our previous example"
      ]
    },
    {
      "cell_type": "code",
      "metadata": {
        "hide-output": false,
        "id": "8MlZySyXGhe3",
        "colab_type": "code",
        "colab": {}
      },
      "source": [
        "my_string = f\"{country} had ${GDP * 1_000_000} GDP in {year}\"\n",
        "print(my_string)"
      ],
      "execution_count": 0,
      "outputs": []
    },
    {
      "cell_type": "markdown",
      "metadata": {
        "id": "AiLgLtraGhfB",
        "colab_type": "text"
      },
      "source": [
        "In these cases, the `f` in front of the string causes Python interpolate\n",
        "any valid expression within the `{}` braces.\n",
        "\n",
        "\n",
        "<a id='exercise-11'></a>\n",
        "> See exercise 12 in the [*exercise list*](#exerciselist-0)\n",
        "\n",
        "\n",
        "Alternatively, to reuse a formatted string, you can call the `format` method (noting that you do **not** put `f` in front)."
      ]
    },
    {
      "cell_type": "code",
      "metadata": {
        "hide-output": false,
        "id": "NM_TNAKsGhfK",
        "colab_type": "code",
        "colab": {
          "base_uri": "https://localhost:8080/",
          "height": 34
        },
        "outputId": "9f071082-c338-48c1-91ba-d60f1b39dc7f"
      },
      "source": [
        "gdp_string = \"{country} had ${GDP} billion in {year}\"\n",
        "\n",
        "gdp_string.format(country = \"Vietnam\", GDP = 223.9, year = 2017)"
      ],
      "execution_count": 40,
      "outputs": [
        {
          "output_type": "execute_result",
          "data": {
            "text/plain": [
              "'Vietnam had $223.9 billion in 2017'"
            ]
          },
          "metadata": {
            "tags": []
          },
          "execution_count": 40
        }
      ]
    },
    {
      "cell_type": "markdown",
      "metadata": {
        "id": "8CoxQG7_Ghfc",
        "colab_type": "text"
      },
      "source": [
        "\n",
        "<a id='exercise-12'></a>\n",
        "> See exercise 13 in the [*exercise list*](#exerciselist-0)\n",
        "\n",
        "\n",
        "\n",
        "<a id='exercise-13'></a>\n",
        "> See exercise 14 in the [*exercise list*](#exerciselist-0)\n",
        "\n",
        "\n",
        "For more information on what you can do with string formatting (there is *a lot*\n",
        "that can be done…), see the [official Python documentation](https://docs.python.org/3.6/library/string.html) on the subject."
      ]
    },
    {
      "cell_type": "markdown",
      "metadata": {
        "id": "SreQuQIiGhff",
        "colab_type": "text"
      },
      "source": [
        "## Booleans\n",
        "\n",
        "A boolean is a type that denotes true or false.\n",
        "\n",
        "As you will soon see in the [control flow chapter](control_flow.ipynb), using\n",
        "boolean values allows you to perform or skip operations depending on whether or\n",
        "not a condition is met.\n",
        "\n",
        "Let’s start by creating some booleans and looking at them."
      ]
    },
    {
      "cell_type": "code",
      "metadata": {
        "hide-output": false,
        "id": "iyEE9PVTGhfg",
        "colab_type": "code",
        "colab": {
          "base_uri": "https://localhost:8080/",
          "height": 34
        },
        "outputId": "b3456b52-eefd-407d-ca57-9b21d553a43a"
      },
      "source": [
        "x = True\n",
        "y = False\n",
        "\n",
        "type(x)"
      ],
      "execution_count": 41,
      "outputs": [
        {
          "output_type": "execute_result",
          "data": {
            "text/plain": [
              "bool"
            ]
          },
          "metadata": {
            "tags": []
          },
          "execution_count": 41
        }
      ]
    },
    {
      "cell_type": "code",
      "metadata": {
        "hide-output": false,
        "id": "JMZrxPm9Ghfk",
        "colab_type": "code",
        "colab": {
          "base_uri": "https://localhost:8080/",
          "height": 34
        },
        "outputId": "7ac3ba07-4d41-4a7b-ebad-31f0ac682992"
      },
      "source": [
        "x"
      ],
      "execution_count": 42,
      "outputs": [
        {
          "output_type": "execute_result",
          "data": {
            "text/plain": [
              "True"
            ]
          },
          "metadata": {
            "tags": []
          },
          "execution_count": 42
        }
      ]
    },
    {
      "cell_type": "code",
      "metadata": {
        "hide-output": false,
        "id": "-HPdmM2-Ghfq",
        "colab_type": "code",
        "colab": {
          "base_uri": "https://localhost:8080/",
          "height": 34
        },
        "outputId": "ce0285eb-3655-43d5-9328-ae162c6a53b0"
      },
      "source": [
        "y"
      ],
      "execution_count": 43,
      "outputs": [
        {
          "output_type": "execute_result",
          "data": {
            "text/plain": [
              "False"
            ]
          },
          "metadata": {
            "tags": []
          },
          "execution_count": 43
        }
      ]
    },
    {
      "cell_type": "markdown",
      "metadata": {
        "id": "gsXYyDfKGhfu",
        "colab_type": "text"
      },
      "source": [
        "### Comparison Operators\n",
        "\n",
        "Rather than directly write `True` or `False`, you will usually\n",
        "create booleans by making a comparison.\n",
        "\n",
        "For example, you might want to evaluate whether the price of a particular asset\n",
        "is greater than or less than some price.\n",
        "\n",
        "For two variables `x` and `y`, we can do the following comparisons:\n",
        "\n",
        "- Greater than: `x > y`  \n",
        "- Less than: `x < y`  \n",
        "- Equal to: `==`  \n",
        "- Greater than or equal to: `x >= y`  \n",
        "- Less than or equal to: `x <= y`  \n",
        "\n",
        "\n",
        "We demonstrate these below."
      ]
    },
    {
      "cell_type": "code",
      "metadata": {
        "hide-output": false,
        "id": "IY-t3hXkGhfv",
        "colab_type": "code",
        "colab": {
          "base_uri": "https://localhost:8080/",
          "height": 102
        },
        "outputId": "bc7cfda5-6f51-4348-ce37-901d7e1a3f77"
      },
      "source": [
        "a = 4\n",
        "b = 2\n",
        "\n",
        "print(\"a > b\", \"is\", a > b)\n",
        "print(\"a < b\", \"is\", a < b)\n",
        "print(\"a == b\", \"is\", a == b)\n",
        "print(\"a >= b\", \"is\", a >= b)\n",
        "print(\"a <= b\", \"is\", a <= b)"
      ],
      "execution_count": 44,
      "outputs": [
        {
          "output_type": "stream",
          "text": [
            "a > b is True\n",
            "a < b is False\n",
            "a == b is False\n",
            "a >= b is True\n",
            "a <= b is False\n"
          ],
          "name": "stdout"
        }
      ]
    },
    {
      "cell_type": "markdown",
      "metadata": {
        "id": "x6GN-8mzGhfz",
        "colab_type": "text"
      },
      "source": [
        "### Negation\n",
        "\n",
        "Occasionally, determining whether a statement is\n",
        "“not true” or “not false” is more convenient than simply “true” or “false”.\n",
        "\n",
        "This is known as *negating* a statement.\n",
        "\n",
        "In Python, we can negate a boolean using the word `not`."
      ]
    },
    {
      "cell_type": "code",
      "metadata": {
        "hide-output": false,
        "id": "Pju3JXFZGhf0",
        "colab_type": "code",
        "colab": {
          "base_uri": "https://localhost:8080/",
          "height": 34
        },
        "outputId": "34d13fe6-9517-4ce0-e2cf-1a5cc887c47a"
      },
      "source": [
        "not False"
      ],
      "execution_count": 45,
      "outputs": [
        {
          "output_type": "execute_result",
          "data": {
            "text/plain": [
              "True"
            ]
          },
          "metadata": {
            "tags": []
          },
          "execution_count": 45
        }
      ]
    },
    {
      "cell_type": "code",
      "metadata": {
        "hide-output": false,
        "id": "U1gD1rmRGhf3",
        "colab_type": "code",
        "colab": {
          "base_uri": "https://localhost:8080/",
          "height": 34
        },
        "outputId": "02945538-13a3-4716-f271-c949f5eaa31a"
      },
      "source": [
        "not True"
      ],
      "execution_count": 46,
      "outputs": [
        {
          "output_type": "execute_result",
          "data": {
            "text/plain": [
              "False"
            ]
          },
          "metadata": {
            "tags": []
          },
          "execution_count": 46
        }
      ]
    },
    {
      "cell_type": "markdown",
      "metadata": {
        "id": "NFKjl7jvGhf_",
        "colab_type": "text"
      },
      "source": [
        "### Multiple Comparisons (and/or)\n",
        "\n",
        "Sometimes we need to evaluate multiple comparisons at once.\n",
        "\n",
        "This is done by using the words `and` and `or`.\n",
        "\n",
        "However, these are the “mathematical” *and*s and *or*s – so they\n",
        "don’t carry the same meaning as you’d use them in colloquial English.\n",
        "\n",
        "- `a and b` is true only when **both** `a` and `b` are true.  \n",
        "- `a or b` is true whenever at least one of `a` or `b` is true.  \n",
        "\n",
        "\n",
        "For example\n",
        "\n",
        "- The statement “I will accept the new job if the salary is higher\n",
        "  *and* I receive more vacation days” means that you would only accept\n",
        "  the new job if you both receive a higher salary and are given more\n",
        "  vacation days.  \n",
        "- The statement “I will accept the new job if the salary is higher *or*\n",
        "  I receive more vacation days” means that you would accept the job if\n",
        "  (1) they raised your salary, (2) you are given more vacation days, or\n",
        "  (3) they raise your salary and give you more vacation days.  \n",
        "\n",
        "\n",
        "Let’s see some examples."
      ]
    },
    {
      "cell_type": "code",
      "metadata": {
        "hide-output": false,
        "id": "Ye2V2_C0GhgA",
        "colab_type": "code",
        "colab": {
          "base_uri": "https://localhost:8080/",
          "height": 34
        },
        "outputId": "2db8cb98-df19-4015-fb8b-e5cf573ec7d6"
      },
      "source": [
        "True and False"
      ],
      "execution_count": 47,
      "outputs": [
        {
          "output_type": "execute_result",
          "data": {
            "text/plain": [
              "False"
            ]
          },
          "metadata": {
            "tags": []
          },
          "execution_count": 47
        }
      ]
    },
    {
      "cell_type": "code",
      "metadata": {
        "hide-output": false,
        "id": "7V8v4goyGhgH",
        "colab_type": "code",
        "colab": {
          "base_uri": "https://localhost:8080/",
          "height": 34
        },
        "outputId": "a29877ed-531b-46b8-8fc1-9cbf22c3fcbe"
      },
      "source": [
        "True and True"
      ],
      "execution_count": 48,
      "outputs": [
        {
          "output_type": "execute_result",
          "data": {
            "text/plain": [
              "True"
            ]
          },
          "metadata": {
            "tags": []
          },
          "execution_count": 48
        }
      ]
    },
    {
      "cell_type": "code",
      "metadata": {
        "hide-output": false,
        "id": "UfkMhMduGhgP",
        "colab_type": "code",
        "colab": {
          "base_uri": "https://localhost:8080/",
          "height": 34
        },
        "outputId": "2ab2292a-999b-4ae2-b21f-e82c4344dcbc"
      },
      "source": [
        "True or False"
      ],
      "execution_count": 49,
      "outputs": [
        {
          "output_type": "execute_result",
          "data": {
            "text/plain": [
              "True"
            ]
          },
          "metadata": {
            "tags": []
          },
          "execution_count": 49
        }
      ]
    },
    {
      "cell_type": "code",
      "metadata": {
        "hide-output": false,
        "id": "H1Ox5942GhgY",
        "colab_type": "code",
        "colab": {
          "base_uri": "https://localhost:8080/",
          "height": 34
        },
        "outputId": "2c4e521e-c5ef-478c-9e87-d654eefa7128"
      },
      "source": [
        "False or False"
      ],
      "execution_count": 50,
      "outputs": [
        {
          "output_type": "execute_result",
          "data": {
            "text/plain": [
              "False"
            ]
          },
          "metadata": {
            "tags": []
          },
          "execution_count": 50
        }
      ]
    },
    {
      "cell_type": "code",
      "metadata": {
        "hide-output": false,
        "id": "LLy4JpRHGhgh",
        "colab_type": "code",
        "colab": {
          "base_uri": "https://localhost:8080/",
          "height": 34
        },
        "outputId": "3435a6c1-6066-4ac3-d58f-7e307ec002ed"
      },
      "source": [
        "# Can chain multiple comparisons together.\n",
        "True and (False or True)"
      ],
      "execution_count": 51,
      "outputs": [
        {
          "output_type": "execute_result",
          "data": {
            "text/plain": [
              "True"
            ]
          },
          "metadata": {
            "tags": []
          },
          "execution_count": 51
        }
      ]
    },
    {
      "cell_type": "markdown",
      "metadata": {
        "id": "B3NcFM6SGhg_",
        "colab_type": "text"
      },
      "source": [
        "\n",
        "<a id='exercise-14'></a>\n",
        "> See exercise 15 in the [*exercise list*](#exerciselist-0)"
      ]
    },
    {
      "cell_type": "markdown",
      "metadata": {
        "id": "whAapK-6GhhB",
        "colab_type": "text"
      },
      "source": [
        "### `all` and `any`\n",
        "\n",
        "We have seen how we can use the words `and` and `or` to process two booleans\n",
        "at a time.\n",
        "\n",
        "The functions `all` and `any` allow us to process an unlimited number of\n",
        "booleans at once.\n",
        "\n",
        "`all(bools)` will return `True` if and only if all the booleans in `bools`\n",
        "is `True` and returns `False` otherwise.\n",
        "\n",
        "`any(bools)` returns `True` whenever one or more of `bools` is `True`.\n",
        "\n",
        "The exercise below will give you a chance to practice.\n",
        "\n",
        "\n",
        "<a id='exercise-15'></a>\n",
        "> See exercise 16 in the [*exercise list*](#exerciselist-0)"
      ]
    },
    {
      "cell_type": "markdown",
      "metadata": {
        "id": "tkwi_SBXGhhE",
        "colab_type": "text"
      },
      "source": [
        "## Exercises\n",
        "\n",
        "\n",
        "<a id='exerciselist-0'></a>\n",
        "**Exercise 1**\n",
        "\n",
        "What do you think the value of `z` is after running the code below?"
      ]
    },
    {
      "cell_type": "markdown",
      "metadata": {
        "hide-output": false,
        "id": "A1bCBnVVGhhJ",
        "colab_type": "text"
      },
      "source": [
        "```python\n",
        "z = 3\n",
        "z = z + 4\n",
        "print(\"z is\", z)\n",
        "```\n"
      ]
    },
    {
      "cell_type": "markdown",
      "metadata": {
        "id": "0yhYA_J0GhhK",
        "colab_type": "text"
      },
      "source": [
        "([*back to text*](#exercise-0))\n",
        "\n",
        "**Exercise 2**\n",
        "\n",
        "Read about out what the `len` function does (by writing len?).\n",
        "\n",
        "What will it produce if we give it the variable `x`?\n",
        "\n",
        "Check whether you were right by running the code `len(x)`.\n",
        "\n",
        "([*back to text*](#exercise-1))\n",
        "\n",
        "**Exercise 3**\n",
        "\n",
        "We can use our introspection skills to investigate a package's contents.\n",
        "\n",
        "In the cell below, use tab completion to find a function from the `time`\n",
        "module that will display the **local** time.\n",
        "\n",
        "Use `time.FUNC_NAME?` (where `FUNC_NAME` is replaced with the\n",
        "function you found) to see information about that function and\n",
        "then call the function. (Hint: look for something to do with the word\n",
        "`local`)."
      ]
    },
    {
      "cell_type": "code",
      "metadata": {
        "hide-output": false,
        "id": "3QssIQ-jGhhM",
        "colab_type": "code",
        "colab": {}
      },
      "source": [
        "import time\n",
        "# your code here -- notice the comment!"
      ],
      "execution_count": 0,
      "outputs": []
    },
    {
      "cell_type": "markdown",
      "metadata": {
        "id": "MqgOF4d7GhhQ",
        "colab_type": "text"
      },
      "source": [
        "([*back to text*](#exercise-2))\n",
        "\n",
        "**Exercise 4**\n",
        "\n",
        "Try running `import time as t` in the cell below, then see if you can\n",
        "call the function you identified above.\n",
        "\n",
        "Does it work?\n",
        "\n",
        "([*back to text*](#exercise-3))\n",
        "\n",
        "**Exercise 5**\n",
        "\n",
        "Create the following variables:\n",
        "\n",
        "- `D`: A floating point number with the value 10,000  \n",
        "- `r`: A floating point number with value 0.025  \n",
        "- `T`: An integer with value 30  \n",
        "\n",
        "\n",
        "We will use them in a later exercise."
      ]
    },
    {
      "cell_type": "code",
      "metadata": {
        "hide-output": false,
        "id": "m-pm3tRDGhhR",
        "colab_type": "code",
        "colab": {}
      },
      "source": [
        "# your code here!"
      ],
      "execution_count": 0,
      "outputs": []
    },
    {
      "cell_type": "markdown",
      "metadata": {
        "id": "pEDLPGrqGhhW",
        "colab_type": "text"
      },
      "source": [
        "([*back to text*](#exercise-4))\n",
        "\n",
        "**Exercise 6**\n",
        "\n",
        "Remember the variables we created earlier?\n",
        "\n",
        "Let's compute the present discounted value of a payment ($ D $) made\n",
        "in $ T $ years assuming an interest rate of 2.5%. Save this value to\n",
        "a new variable called `PDV` and print your output.\n",
        "\n",
        "Hint: The formula is\n",
        "\n",
        "$$\n",
        "\\text{PDV} = \\frac{D}{(1 + r)^T}\n",
        "$$"
      ]
    },
    {
      "cell_type": "code",
      "metadata": {
        "hide-output": false,
        "id": "8hnam1zfGhhX",
        "colab_type": "code",
        "colab": {}
      },
      "source": [
        "# your code here"
      ],
      "execution_count": 0,
      "outputs": []
    },
    {
      "cell_type": "markdown",
      "metadata": {
        "id": "MCQ5xw4TGhha",
        "colab_type": "text"
      },
      "source": [
        "([*back to text*](#exercise-5))\n",
        "\n",
        "**Exercise 7**\n",
        "\n",
        "Verify the \"trick\" where the percent difference ($ \\frac{x - y}{x} $)\n",
        "between two numbers close to 1 can be well approximated by the difference\n",
        "between the log of the two numbers ($ \\log(x) - \\log(y) $).\n",
        "\n",
        "Use the numbers `x` and `y` below. (Hint: you will want to use the\n",
        "`math.log` function)"
      ]
    },
    {
      "cell_type": "code",
      "metadata": {
        "hide-output": false,
        "id": "lTmvZWX1Ghhb",
        "colab_type": "code",
        "colab": {}
      },
      "source": [
        "x = 1.05\n",
        "y = 1.02"
      ],
      "execution_count": 0,
      "outputs": []
    },
    {
      "cell_type": "markdown",
      "metadata": {
        "id": "EwbLqn0wGhhh",
        "colab_type": "text"
      },
      "source": [
        "([*back to text*](#exercise-6))\n",
        "\n",
        "**Exercise 8**\n",
        "\n",
        "The code below is invalid Python code"
      ]
    },
    {
      "cell_type": "markdown",
      "metadata": {
        "hide-output": false,
        "id": "hJthUSbCGhhi",
        "colab_type": "text"
      },
      "source": [
        "```markdown\n",
        "x = 'What's wrong with this string'\n",
        "```\n"
      ]
    },
    {
      "cell_type": "markdown",
      "metadata": {
        "id": "hTKlJ5bqGhhj",
        "colab_type": "text"
      },
      "source": [
        "Can you fix it?\n",
        "\n",
        "*Hint*: Try creating a code cell below and testing things out until you\n",
        "find a solution.\n",
        "\n",
        "([*back to text*](#exercise-7))\n",
        "\n",
        "**Exercise 9**\n",
        "\n",
        "Using the variables `x` and `y`, how could you create the sentence\n",
        "`Hello World`?\n",
        "\n",
        "Hint: Think about how to represent a space as a string.\n",
        "\n",
        "([*back to text*](#exercise-8))\n",
        "\n",
        "**Exercise 10**\n",
        "\n",
        "One of our favorite (and most frequently used) string methods is\n",
        "`replace`.\n",
        "\n",
        "It substitutes all occurrences of a particular pattern with a different pattern.\n",
        "\n",
        "For the variable `test` below, use the `replace` method to change the\n",
        "`c` to a `d`.\n",
        "\n",
        "Hint: Type `test.replace?` to get some help for how to use the method\n",
        "replace."
      ]
    },
    {
      "cell_type": "code",
      "metadata": {
        "hide-output": false,
        "id": "EvhjZubiGhhl",
        "colab_type": "code",
        "colab": {}
      },
      "source": [
        "test = \"abc\""
      ],
      "execution_count": 0,
      "outputs": []
    },
    {
      "cell_type": "markdown",
      "metadata": {
        "id": "OvyZLcdeGhhq",
        "colab_type": "text"
      },
      "source": [
        "([*back to text*](#exercise-9))\n",
        "\n",
        "**Exercise 11**\n",
        "\n",
        "Suppose you are working with price data and encounter the value\n",
        "`\"\\$6.50\"`.\n",
        "\n",
        "We recognize this as being a number representing the quantity \"six dollars and fifty cents.\"\n",
        "\n",
        "However, Python interprets the value as the string\n",
        "`\"\\$6.50\"`. (Quiz: why is this a problem? Think about the examples above.)\n",
        "\n",
        "In this exercise, your task is to convert the variable `price` below\n",
        "into a number.\n",
        "\n",
        "*Hint*: Once the string is in a suitable format, you can call write\n",
        "`float(clean_price)` to make it a number."
      ]
    },
    {
      "cell_type": "markdown",
      "metadata": {
        "hide-output": false,
        "id": "5uPiOolZGhhr",
        "colab_type": "text"
      },
      "source": [
        "```python\n",
        "price = \"$6.50\"\n",
        "```\n"
      ]
    },
    {
      "cell_type": "markdown",
      "metadata": {
        "id": "Q9fUFdgKGhhs",
        "colab_type": "text"
      },
      "source": [
        "([*back to text*](#exercise-10))\n",
        "\n",
        "**Exercise 12**\n",
        "\n",
        "Lookup a country in [World Bank database](https://data.worldbank.org), and\n",
        "format a string showing the growth rate of GDP over the last 2 years.\n",
        "\n",
        "([*back to text*](#exercise-11))\n",
        "\n",
        "**Exercise 13**\n",
        "\n",
        "Instead of hard-coding the values above, try to use the `country`, `GDP` and\n",
        "`year` variables you previously defined.\n",
        "\n",
        "([*back to text*](#exercise-12))\n",
        "\n",
        "**Exercise 14**\n",
        "\n",
        "Create a new string and use formatting to produce each of the following\n",
        "statements\n",
        "\n",
        "- \"The 1st quarter revenue was 110M\"  \n",
        "- \"The 2nd quarter revenue was 95M\"  \n",
        "- \"The 3rd quarter revenue was 100M\"  \n",
        "- \"The 4th quarter revenue was 130M\"  \n",
        "\n",
        "\n",
        "([*back to text*](#exercise-13))\n",
        "\n",
        "**Exercise 15**\n",
        "\n",
        "Without typing the commands, determine whether the following statements are\n",
        "true or false.\n",
        "\n",
        "Once you have evaluated whether the command is `True` or `False`, run the\n",
        "code in Python."
      ]
    },
    {
      "cell_type": "markdown",
      "metadata": {
        "hide-output": false,
        "id": "xynRpYsyGhht",
        "colab_type": "text"
      },
      "source": [
        "```python\n",
        "x = 2\n",
        "y = 2\n",
        "z = 4\n",
        "\n",
        "# Statement 1\n",
        "x > z\n",
        "\n",
        "# Statement 1\n",
        "x == y\n",
        "\n",
        "# Statement 3\n",
        "(x < y) and (x > y)\n",
        "\n",
        "# Statement 4\n",
        "(x < y) or (x > y)\n",
        "\n",
        "# Statement 5\n",
        "(x <= y) and (x >= y)\n",
        "\n",
        "# Statement 6\n",
        "True and ((x < z) or (x < y))\n",
        "```\n"
      ]
    },
    {
      "cell_type": "code",
      "metadata": {
        "hide-output": false,
        "id": "tp5IGmwOGhhw",
        "colab_type": "code",
        "colab": {}
      },
      "source": [
        "# code here!"
      ],
      "execution_count": 0,
      "outputs": []
    },
    {
      "cell_type": "markdown",
      "metadata": {
        "id": "7KZ_nAvTGhh3",
        "colab_type": "text"
      },
      "source": [
        "([*back to text*](#exercise-14))\n",
        "\n",
        "**Exercise 16**\n",
        "\n",
        "For each of the code cells below, think carefully about what you expect to\n",
        "be returned *before* evaluating the cell.\n",
        "\n",
        "Then evaluate the cell to check your intuitions.\n",
        "\n",
        "NOTE: For now, do not worry about what the `[` and `]` mean -- they\n",
        "allow us to create lists which we will learn about in an upcoming lecture."
      ]
    },
    {
      "cell_type": "code",
      "metadata": {
        "hide-output": false,
        "id": "hzNSs3YhGhh8",
        "colab_type": "code",
        "colab": {}
      },
      "source": [
        "all([True, True, True])"
      ],
      "execution_count": 0,
      "outputs": []
    },
    {
      "cell_type": "code",
      "metadata": {
        "hide-output": false,
        "id": "igGJlrVBGhiE",
        "colab_type": "code",
        "colab": {}
      },
      "source": [
        "all([False, True, False])"
      ],
      "execution_count": 0,
      "outputs": []
    },
    {
      "cell_type": "code",
      "metadata": {
        "hide-output": false,
        "id": "-zpXeOHVGhiH",
        "colab_type": "code",
        "colab": {}
      },
      "source": [
        "all([False, False, False])"
      ],
      "execution_count": 0,
      "outputs": []
    },
    {
      "cell_type": "code",
      "metadata": {
        "hide-output": false,
        "id": "OqaLb8VVGhiK",
        "colab_type": "code",
        "colab": {}
      },
      "source": [
        "any([True, True, True])"
      ],
      "execution_count": 0,
      "outputs": []
    },
    {
      "cell_type": "code",
      "metadata": {
        "hide-output": false,
        "id": "GxeomlGiGhiN",
        "colab_type": "code",
        "colab": {}
      },
      "source": [
        "any([False, True, False])"
      ],
      "execution_count": 0,
      "outputs": []
    },
    {
      "cell_type": "code",
      "metadata": {
        "hide-output": false,
        "id": "LcQchMhgGhiQ",
        "colab_type": "code",
        "colab": {}
      },
      "source": [
        "any([False, False, False])"
      ],
      "execution_count": 0,
      "outputs": []
    },
    {
      "cell_type": "markdown",
      "metadata": {
        "id": "7ryQIIDeGhiT",
        "colab_type": "text"
      },
      "source": [
        "([*back to text*](#exercise-15))"
      ]
    }
  ]
}